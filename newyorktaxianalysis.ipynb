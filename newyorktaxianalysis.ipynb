{
 "cells": [
  {
   "cell_type": "code",
   "execution_count": 74,
   "id": "1a2696b7",
   "metadata": {},
   "outputs": [],
   "source": [
    "import pandas as pd\n",
    "import numpy as np\n",
    "%matplotlib inline"
   ]
  },
  {
   "cell_type": "code",
   "execution_count": 75,
   "id": "89e13d8e",
   "metadata": {},
   "outputs": [],
   "source": [
    "taxi_jan_2019 = pd.read_parquet('data/yellow_tripdata_2019-01.parquet')\n",
    "taxi_data = pd.concat([taxi_jan_2019])"
   ]
  },
  {
   "cell_type": "code",
   "execution_count": 76,
   "id": "931f600d",
   "metadata": {},
   "outputs": [
    {
     "name": "stdout",
     "output_type": "stream",
     "text": [
      "(7696617, 19)\n"
     ]
    },
    {
     "data": {
      "text/html": [
       "<div>\n",
       "<style scoped>\n",
       "    .dataframe tbody tr th:only-of-type {\n",
       "        vertical-align: middle;\n",
       "    }\n",
       "\n",
       "    .dataframe tbody tr th {\n",
       "        vertical-align: top;\n",
       "    }\n",
       "\n",
       "    .dataframe thead th {\n",
       "        text-align: right;\n",
       "    }\n",
       "</style>\n",
       "<table border=\"1\" class=\"dataframe\">\n",
       "  <thead>\n",
       "    <tr style=\"text-align: right;\">\n",
       "      <th></th>\n",
       "      <th>VendorID</th>\n",
       "      <th>tpep_pickup_datetime</th>\n",
       "      <th>tpep_dropoff_datetime</th>\n",
       "      <th>passenger_count</th>\n",
       "      <th>trip_distance</th>\n",
       "      <th>RatecodeID</th>\n",
       "      <th>store_and_fwd_flag</th>\n",
       "      <th>PULocationID</th>\n",
       "      <th>DOLocationID</th>\n",
       "      <th>payment_type</th>\n",
       "      <th>fare_amount</th>\n",
       "      <th>extra</th>\n",
       "      <th>mta_tax</th>\n",
       "      <th>tip_amount</th>\n",
       "      <th>tolls_amount</th>\n",
       "      <th>improvement_surcharge</th>\n",
       "      <th>total_amount</th>\n",
       "      <th>congestion_surcharge</th>\n",
       "      <th>airport_fee</th>\n",
       "    </tr>\n",
       "  </thead>\n",
       "  <tbody>\n",
       "    <tr>\n",
       "      <th>0</th>\n",
       "      <td>1</td>\n",
       "      <td>2019-01-01 00:46:40</td>\n",
       "      <td>2019-01-01 00:53:20</td>\n",
       "      <td>1.0</td>\n",
       "      <td>1.5</td>\n",
       "      <td>1.0</td>\n",
       "      <td>N</td>\n",
       "      <td>151</td>\n",
       "      <td>239</td>\n",
       "      <td>1</td>\n",
       "      <td>7.0</td>\n",
       "      <td>0.5</td>\n",
       "      <td>0.5</td>\n",
       "      <td>1.65</td>\n",
       "      <td>0.0</td>\n",
       "      <td>0.3</td>\n",
       "      <td>9.95</td>\n",
       "      <td>NaN</td>\n",
       "      <td>None</td>\n",
       "    </tr>\n",
       "    <tr>\n",
       "      <th>1</th>\n",
       "      <td>1</td>\n",
       "      <td>2019-01-01 00:59:47</td>\n",
       "      <td>2019-01-01 01:18:59</td>\n",
       "      <td>1.0</td>\n",
       "      <td>2.6</td>\n",
       "      <td>1.0</td>\n",
       "      <td>N</td>\n",
       "      <td>239</td>\n",
       "      <td>246</td>\n",
       "      <td>1</td>\n",
       "      <td>14.0</td>\n",
       "      <td>0.5</td>\n",
       "      <td>0.5</td>\n",
       "      <td>1.00</td>\n",
       "      <td>0.0</td>\n",
       "      <td>0.3</td>\n",
       "      <td>16.30</td>\n",
       "      <td>NaN</td>\n",
       "      <td>None</td>\n",
       "    </tr>\n",
       "    <tr>\n",
       "      <th>2</th>\n",
       "      <td>2</td>\n",
       "      <td>2018-12-21 13:48:30</td>\n",
       "      <td>2018-12-21 13:52:40</td>\n",
       "      <td>3.0</td>\n",
       "      <td>0.0</td>\n",
       "      <td>1.0</td>\n",
       "      <td>N</td>\n",
       "      <td>236</td>\n",
       "      <td>236</td>\n",
       "      <td>1</td>\n",
       "      <td>4.5</td>\n",
       "      <td>0.5</td>\n",
       "      <td>0.5</td>\n",
       "      <td>0.00</td>\n",
       "      <td>0.0</td>\n",
       "      <td>0.3</td>\n",
       "      <td>5.80</td>\n",
       "      <td>NaN</td>\n",
       "      <td>None</td>\n",
       "    </tr>\n",
       "    <tr>\n",
       "      <th>3</th>\n",
       "      <td>2</td>\n",
       "      <td>2018-11-28 15:52:25</td>\n",
       "      <td>2018-11-28 15:55:45</td>\n",
       "      <td>5.0</td>\n",
       "      <td>0.0</td>\n",
       "      <td>1.0</td>\n",
       "      <td>N</td>\n",
       "      <td>193</td>\n",
       "      <td>193</td>\n",
       "      <td>2</td>\n",
       "      <td>3.5</td>\n",
       "      <td>0.5</td>\n",
       "      <td>0.5</td>\n",
       "      <td>0.00</td>\n",
       "      <td>0.0</td>\n",
       "      <td>0.3</td>\n",
       "      <td>7.55</td>\n",
       "      <td>NaN</td>\n",
       "      <td>None</td>\n",
       "    </tr>\n",
       "    <tr>\n",
       "      <th>4</th>\n",
       "      <td>2</td>\n",
       "      <td>2018-11-28 15:56:57</td>\n",
       "      <td>2018-11-28 15:58:33</td>\n",
       "      <td>5.0</td>\n",
       "      <td>0.0</td>\n",
       "      <td>2.0</td>\n",
       "      <td>N</td>\n",
       "      <td>193</td>\n",
       "      <td>193</td>\n",
       "      <td>2</td>\n",
       "      <td>52.0</td>\n",
       "      <td>0.0</td>\n",
       "      <td>0.5</td>\n",
       "      <td>0.00</td>\n",
       "      <td>0.0</td>\n",
       "      <td>0.3</td>\n",
       "      <td>55.55</td>\n",
       "      <td>NaN</td>\n",
       "      <td>None</td>\n",
       "    </tr>\n",
       "  </tbody>\n",
       "</table>\n",
       "</div>"
      ],
      "text/plain": [
       "   VendorID tpep_pickup_datetime tpep_dropoff_datetime  passenger_count  \\\n",
       "0         1  2019-01-01 00:46:40   2019-01-01 00:53:20              1.0   \n",
       "1         1  2019-01-01 00:59:47   2019-01-01 01:18:59              1.0   \n",
       "2         2  2018-12-21 13:48:30   2018-12-21 13:52:40              3.0   \n",
       "3         2  2018-11-28 15:52:25   2018-11-28 15:55:45              5.0   \n",
       "4         2  2018-11-28 15:56:57   2018-11-28 15:58:33              5.0   \n",
       "\n",
       "   trip_distance  RatecodeID store_and_fwd_flag  PULocationID  DOLocationID  \\\n",
       "0            1.5         1.0                  N           151           239   \n",
       "1            2.6         1.0                  N           239           246   \n",
       "2            0.0         1.0                  N           236           236   \n",
       "3            0.0         1.0                  N           193           193   \n",
       "4            0.0         2.0                  N           193           193   \n",
       "\n",
       "   payment_type  fare_amount  extra  mta_tax  tip_amount  tolls_amount  \\\n",
       "0             1          7.0    0.5      0.5        1.65           0.0   \n",
       "1             1         14.0    0.5      0.5        1.00           0.0   \n",
       "2             1          4.5    0.5      0.5        0.00           0.0   \n",
       "3             2          3.5    0.5      0.5        0.00           0.0   \n",
       "4             2         52.0    0.0      0.5        0.00           0.0   \n",
       "\n",
       "   improvement_surcharge  total_amount  congestion_surcharge airport_fee  \n",
       "0                    0.3          9.95                   NaN        None  \n",
       "1                    0.3         16.30                   NaN        None  \n",
       "2                    0.3          5.80                   NaN        None  \n",
       "3                    0.3          7.55                   NaN        None  \n",
       "4                    0.3         55.55                   NaN        None  "
      ]
     },
     "execution_count": 76,
     "metadata": {},
     "output_type": "execute_result"
    }
   ],
   "source": [
    "print(taxi_data.shape)\n",
    "taxi_data.head()"
   ]
  },
  {
   "cell_type": "code",
   "execution_count": 77,
   "id": "5a43e657",
   "metadata": {},
   "outputs": [
    {
     "data": {
      "text/plain": [
       "Index(['VendorID', 'tpep_pickup_datetime', 'tpep_dropoff_datetime',\n",
       "       'passenger_count', 'trip_distance', 'RatecodeID', 'store_and_fwd_flag',\n",
       "       'PULocationID', 'DOLocationID', 'payment_type', 'fare_amount', 'extra',\n",
       "       'mta_tax', 'tip_amount', 'tolls_amount', 'improvement_surcharge',\n",
       "       'total_amount', 'congestion_surcharge', 'airport_fee'],\n",
       "      dtype='object')"
      ]
     },
     "execution_count": 77,
     "metadata": {},
     "output_type": "execute_result"
    }
   ],
   "source": [
    "taxi_data.columns"
   ]
  },
  {
   "cell_type": "code",
   "execution_count": 78,
   "id": "1ad1dc01",
   "metadata": {},
   "outputs": [],
   "source": [
    "taxi_data = taxi_data[['tpep_pickup_datetime', 'tpep_dropoff_datetime',\n",
    "       'passenger_count', 'trip_distance', 'RatecodeID','PULocationID',\n",
    "       'DOLocationID', 'payment_type',  'total_amount']]"
   ]
  },
  {
   "cell_type": "code",
   "execution_count": 79,
   "id": "e9198495",
   "metadata": {},
   "outputs": [
    {
     "data": {
      "text/html": [
       "<div>\n",
       "<style scoped>\n",
       "    .dataframe tbody tr th:only-of-type {\n",
       "        vertical-align: middle;\n",
       "    }\n",
       "\n",
       "    .dataframe tbody tr th {\n",
       "        vertical-align: top;\n",
       "    }\n",
       "\n",
       "    .dataframe thead th {\n",
       "        text-align: right;\n",
       "    }\n",
       "</style>\n",
       "<table border=\"1\" class=\"dataframe\">\n",
       "  <thead>\n",
       "    <tr style=\"text-align: right;\">\n",
       "      <th></th>\n",
       "      <th>tpep_pickup_datetime</th>\n",
       "      <th>tpep_dropoff_datetime</th>\n",
       "      <th>passenger_count</th>\n",
       "      <th>trip_distance</th>\n",
       "      <th>RatecodeID</th>\n",
       "      <th>PULocationID</th>\n",
       "      <th>DOLocationID</th>\n",
       "      <th>payment_type</th>\n",
       "      <th>total_amount</th>\n",
       "    </tr>\n",
       "  </thead>\n",
       "  <tbody>\n",
       "    <tr>\n",
       "      <th>0</th>\n",
       "      <td>2019-01-01 00:46:40</td>\n",
       "      <td>2019-01-01 00:53:20</td>\n",
       "      <td>1.0</td>\n",
       "      <td>1.5</td>\n",
       "      <td>1.0</td>\n",
       "      <td>151</td>\n",
       "      <td>239</td>\n",
       "      <td>1</td>\n",
       "      <td>9.95</td>\n",
       "    </tr>\n",
       "    <tr>\n",
       "      <th>1</th>\n",
       "      <td>2019-01-01 00:59:47</td>\n",
       "      <td>2019-01-01 01:18:59</td>\n",
       "      <td>1.0</td>\n",
       "      <td>2.6</td>\n",
       "      <td>1.0</td>\n",
       "      <td>239</td>\n",
       "      <td>246</td>\n",
       "      <td>1</td>\n",
       "      <td>16.30</td>\n",
       "    </tr>\n",
       "    <tr>\n",
       "      <th>2</th>\n",
       "      <td>2018-12-21 13:48:30</td>\n",
       "      <td>2018-12-21 13:52:40</td>\n",
       "      <td>3.0</td>\n",
       "      <td>0.0</td>\n",
       "      <td>1.0</td>\n",
       "      <td>236</td>\n",
       "      <td>236</td>\n",
       "      <td>1</td>\n",
       "      <td>5.80</td>\n",
       "    </tr>\n",
       "    <tr>\n",
       "      <th>3</th>\n",
       "      <td>2018-11-28 15:52:25</td>\n",
       "      <td>2018-11-28 15:55:45</td>\n",
       "      <td>5.0</td>\n",
       "      <td>0.0</td>\n",
       "      <td>1.0</td>\n",
       "      <td>193</td>\n",
       "      <td>193</td>\n",
       "      <td>2</td>\n",
       "      <td>7.55</td>\n",
       "    </tr>\n",
       "    <tr>\n",
       "      <th>4</th>\n",
       "      <td>2018-11-28 15:56:57</td>\n",
       "      <td>2018-11-28 15:58:33</td>\n",
       "      <td>5.0</td>\n",
       "      <td>0.0</td>\n",
       "      <td>2.0</td>\n",
       "      <td>193</td>\n",
       "      <td>193</td>\n",
       "      <td>2</td>\n",
       "      <td>55.55</td>\n",
       "    </tr>\n",
       "  </tbody>\n",
       "</table>\n",
       "</div>"
      ],
      "text/plain": [
       "  tpep_pickup_datetime tpep_dropoff_datetime  passenger_count  trip_distance  \\\n",
       "0  2019-01-01 00:46:40   2019-01-01 00:53:20              1.0            1.5   \n",
       "1  2019-01-01 00:59:47   2019-01-01 01:18:59              1.0            2.6   \n",
       "2  2018-12-21 13:48:30   2018-12-21 13:52:40              3.0            0.0   \n",
       "3  2018-11-28 15:52:25   2018-11-28 15:55:45              5.0            0.0   \n",
       "4  2018-11-28 15:56:57   2018-11-28 15:58:33              5.0            0.0   \n",
       "\n",
       "   RatecodeID  PULocationID  DOLocationID  payment_type  total_amount  \n",
       "0         1.0           151           239             1          9.95  \n",
       "1         1.0           239           246             1         16.30  \n",
       "2         1.0           236           236             1          5.80  \n",
       "3         1.0           193           193             2          7.55  \n",
       "4         2.0           193           193             2         55.55  "
      ]
     },
     "execution_count": 79,
     "metadata": {},
     "output_type": "execute_result"
    }
   ],
   "source": [
    "taxi_data.head()#priting the specific columns"
   ]
  },
  {
   "cell_type": "code",
   "execution_count": 80,
   "id": "79e08eeb",
   "metadata": {},
   "outputs": [
    {
     "data": {
      "text/plain": [
       "array([[<Axes: title={'center': 'tpep_pickup_datetime'}>,\n",
       "        <Axes: title={'center': 'tpep_dropoff_datetime'}>,\n",
       "        <Axes: title={'center': 'passenger_count'}>],\n",
       "       [<Axes: title={'center': 'trip_distance'}>,\n",
       "        <Axes: title={'center': 'RatecodeID'}>,\n",
       "        <Axes: title={'center': 'PULocationID'}>],\n",
       "       [<Axes: title={'center': 'DOLocationID'}>,\n",
       "        <Axes: title={'center': 'payment_type'}>,\n",
       "        <Axes: title={'center': 'total_amount'}>]], dtype=object)"
      ]
     },
     "execution_count": 80,
     "metadata": {},
     "output_type": "execute_result"
    },
    {
     "data": {
      "image/png": "[encoded data removed]",
      "text/plain": [
       "<Figure size 2000x1000 with 9 Axes>"
      ]
     },
     "metadata": {},
     "output_type": "display_data"
    }
   ],
   "source": [
    "taxi_data.hist(figsize=(20,10), bins=60)"
   ]
  },
  {
   "cell_type": "code",
   "execution_count": 81,
   "id": "8b9e6deb",
   "metadata": {},
   "outputs": [
    {
     "data": {
      "text/plain": [
       "RatecodeID\n",
       "1.0     7430288\n",
       "2.0      166093\n",
       "5.0       54570\n",
       "3.0       11801\n",
       "4.0        4895\n",
       "99.0        252\n",
       "6.0          46\n",
       "Name: count, dtype: int64"
      ]
     },
     "execution_count": 81,
     "metadata": {},
     "output_type": "execute_result"
    }
   ],
   "source": [
    "taxi_data['RatecodeID'].value_counts() #value counts lets us count the occurence of each unique element"
   ]
  },
  {
   "cell_type": "code",
   "execution_count": 82,
   "id": "97883004",
   "metadata": {
    "scrolled": true
   },
   "outputs": [
    {
     "data": {
      "text/plain": [
       "<Axes: xlabel='index', ylabel='total_amount'>"
      ]
     },
     "execution_count": 82,
     "metadata": {},
     "output_type": "execute_result"
    },
    {
     "data": {
      "image/png": "[encoded data removed]",
      "text/plain": [
       "<Figure size 1000x500 with 1 Axes>"
      ]
     },
     "metadata": {},
     "output_type": "display_data"
    }
   ],
   "source": [
    "taxi_data.reset_index().plot(kind='scatter', y='total_amount', x='index', figsize=(10,5))"
   ]
  },
  {
   "cell_type": "code",
   "execution_count": 83,
   "id": "8d5093a6",
   "metadata": {},
   "outputs": [
    {
     "data": {
      "text/plain": [
       "<Axes: xlabel='index', ylabel='total_amount'>"
      ]
     },
     "execution_count": 83,
     "metadata": {},
     "output_type": "execute_result"
    },
    {
     "data": {
      "image/png": "[encoded data removed]",
      "text/plain": [
       "<Figure size 1000x500 with 1 Axes>"
      ]
     },
     "metadata": {},
     "output_type": "display_data"
    }
   ],
   "source": [
    "taxi_data[taxi_data['total_amount']<1000].reset_index().plot(kind='scatter', y='total_amount', x='index', figsize=(10,5))"
   ]
  },
  {
   "cell_type": "code",
   "execution_count": 84,
   "id": "3af4e58f",
   "metadata": {},
   "outputs": [
    {
     "name": "stdout",
     "output_type": "stream",
     "text": [
      "(7127, 9)\n"
     ]
    },
    {
     "data": {
      "text/plain": [
       "<Axes: xlabel='index', ylabel='total_amount'>"
      ]
     },
     "execution_count": 84,
     "metadata": {},
     "output_type": "execute_result"
    },
    {
     "data": {
      "image/png": "[encoded data removed]",
      "text/plain": [
       "<Figure size 1000x500 with 1 Axes>"
      ]
     },
     "metadata": {},
     "output_type": "display_data"
    }
   ],
   "source": [
    "print(taxi_data[taxi_data['total_amount']<0].shape)\n",
    "taxi_data[taxi_data['total_amount']<0].reset_index().plot(kind='scatter', y='total_amount', x='index', figsize=(10,5))"
   ]
  },
  {
   "cell_type": "code",
   "execution_count": 85,
   "id": "2290d2ef",
   "metadata": {},
   "outputs": [
    {
     "data": {
      "text/html": [
       "<div>\n",
       "<style scoped>\n",
       "    .dataframe tbody tr th:only-of-type {\n",
       "        vertical-align: middle;\n",
       "    }\n",
       "\n",
       "    .dataframe tbody tr th {\n",
       "        vertical-align: top;\n",
       "    }\n",
       "\n",
       "    .dataframe thead th {\n",
       "        text-align: right;\n",
       "    }\n",
       "</style>\n",
       "<table border=\"1\" class=\"dataframe\">\n",
       "  <thead>\n",
       "    <tr style=\"text-align: right;\">\n",
       "      <th></th>\n",
       "      <th>tpep_pickup_datetime</th>\n",
       "      <th>tpep_dropoff_datetime</th>\n",
       "      <th>passenger_count</th>\n",
       "      <th>trip_distance</th>\n",
       "      <th>RatecodeID</th>\n",
       "      <th>PULocationID</th>\n",
       "      <th>DOLocationID</th>\n",
       "      <th>payment_type</th>\n",
       "      <th>total_amount</th>\n",
       "    </tr>\n",
       "  </thead>\n",
       "  <tbody>\n",
       "    <tr>\n",
       "      <th>663</th>\n",
       "      <td>2019-01-01 00:32:56</td>\n",
       "      <td>2019-01-01 00:33:35</td>\n",
       "      <td>2.0</td>\n",
       "      <td>0.10</td>\n",
       "      <td>1.0</td>\n",
       "      <td>148</td>\n",
       "      <td>148</td>\n",
       "      <td>3</td>\n",
       "      <td>-3.8</td>\n",
       "    </tr>\n",
       "    <tr>\n",
       "      <th>2402</th>\n",
       "      <td>2019-01-01 00:14:18</td>\n",
       "      <td>2019-01-01 00:40:55</td>\n",
       "      <td>1.0</td>\n",
       "      <td>4.13</td>\n",
       "      <td>1.0</td>\n",
       "      <td>170</td>\n",
       "      <td>238</td>\n",
       "      <td>4</td>\n",
       "      <td>-20.3</td>\n",
       "    </tr>\n",
       "    <tr>\n",
       "      <th>2541</th>\n",
       "      <td>2019-01-01 00:31:27</td>\n",
       "      <td>2019-01-01 00:42:39</td>\n",
       "      <td>1.0</td>\n",
       "      <td>1.35</td>\n",
       "      <td>1.0</td>\n",
       "      <td>162</td>\n",
       "      <td>234</td>\n",
       "      <td>4</td>\n",
       "      <td>-9.8</td>\n",
       "    </tr>\n",
       "    <tr>\n",
       "      <th>2544</th>\n",
       "      <td>2019-01-01 00:45:57</td>\n",
       "      <td>2019-01-01 00:46:07</td>\n",
       "      <td>1.0</td>\n",
       "      <td>0.00</td>\n",
       "      <td>1.0</td>\n",
       "      <td>234</td>\n",
       "      <td>234</td>\n",
       "      <td>4</td>\n",
       "      <td>-3.8</td>\n",
       "    </tr>\n",
       "    <tr>\n",
       "      <th>2547</th>\n",
       "      <td>2019-01-01 00:48:35</td>\n",
       "      <td>2019-01-01 00:49:59</td>\n",
       "      <td>1.0</td>\n",
       "      <td>0.16</td>\n",
       "      <td>1.0</td>\n",
       "      <td>234</td>\n",
       "      <td>234</td>\n",
       "      <td>4</td>\n",
       "      <td>-4.3</td>\n",
       "    </tr>\n",
       "  </tbody>\n",
       "</table>\n",
       "</div>"
      ],
      "text/plain": [
       "     tpep_pickup_datetime tpep_dropoff_datetime  passenger_count  \\\n",
       "663   2019-01-01 00:32:56   2019-01-01 00:33:35              2.0   \n",
       "2402  2019-01-01 00:14:18   2019-01-01 00:40:55              1.0   \n",
       "2541  2019-01-01 00:31:27   2019-01-01 00:42:39              1.0   \n",
       "2544  2019-01-01 00:45:57   2019-01-01 00:46:07              1.0   \n",
       "2547  2019-01-01 00:48:35   2019-01-01 00:49:59              1.0   \n",
       "\n",
       "      trip_distance  RatecodeID  PULocationID  DOLocationID  payment_type  \\\n",
       "663            0.10         1.0           148           148             3   \n",
       "2402           4.13         1.0           170           238             4   \n",
       "2541           1.35         1.0           162           234             4   \n",
       "2544           0.00         1.0           234           234             4   \n",
       "2547           0.16         1.0           234           234             4   \n",
       "\n",
       "      total_amount  \n",
       "663           -3.8  \n",
       "2402         -20.3  \n",
       "2541          -9.8  \n",
       "2544          -3.8  \n",
       "2547          -4.3  "
      ]
     },
     "execution_count": 85,
     "metadata": {},
     "output_type": "execute_result"
    }
   ],
   "source": [
    "taxi_data[taxi_data['total_amount']<0].head()"
   ]
  },
  {
   "cell_type": "code",
   "execution_count": 86,
   "id": "f1b464c6",
   "metadata": {},
   "outputs": [
    {
     "data": {
      "text/plain": [
       "payment_type\n",
       "3    4083\n",
       "4    2667\n",
       "2     376\n",
       "1       1\n",
       "Name: count, dtype: int64"
      ]
     },
     "execution_count": 86,
     "metadata": {},
     "output_type": "execute_result"
    }
   ],
   "source": [
    "taxi_data[taxi_data['total_amount']<0]['payment_type'].value_counts()"
   ]
  },
  {
   "cell_type": "code",
   "execution_count": 87,
   "id": "ec8e5a39",
   "metadata": {},
   "outputs": [
    {
     "data": {
      "text/plain": [
       "<Axes: >"
      ]
     },
     "execution_count": 87,
     "metadata": {},
     "output_type": "execute_result"
    },
    {
     "data": {
      "image/png": "[encoded data removed]",
      "text/plain": [
       "<Figure size 1000x500 with 1 Axes>"
      ]
     },
     "metadata": {},
     "output_type": "display_data"
    }
   ],
   "source": [
    "taxi_data[taxi_data['total_amount']<0]['trip_distance'].hist(bins=60, figsize=(10,5))\n",
    "#looking at the trip distance when the total amount is zero"
   ]
  },
  {
   "cell_type": "code",
   "execution_count": 88,
   "id": "a864bb7b",
   "metadata": {},
   "outputs": [],
   "source": [
    "#i see that we have people paying at zero value too so we can get rid of that"
   ]
  },
  {
   "cell_type": "code",
   "execution_count": 89,
   "id": "ba86dc59",
   "metadata": {},
   "outputs": [
    {
     "name": "stdout",
     "output_type": "stream",
     "text": [
      "(1643, 9)\n"
     ]
    },
    {
     "data": {
      "text/html": [
       "<div>\n",
       "<style scoped>\n",
       "    .dataframe tbody tr th:only-of-type {\n",
       "        vertical-align: middle;\n",
       "    }\n",
       "\n",
       "    .dataframe tbody tr th {\n",
       "        vertical-align: top;\n",
       "    }\n",
       "\n",
       "    .dataframe thead th {\n",
       "        text-align: right;\n",
       "    }\n",
       "</style>\n",
       "<table border=\"1\" class=\"dataframe\">\n",
       "  <thead>\n",
       "    <tr style=\"text-align: right;\">\n",
       "      <th></th>\n",
       "      <th>tpep_pickup_datetime</th>\n",
       "      <th>tpep_dropoff_datetime</th>\n",
       "      <th>passenger_count</th>\n",
       "      <th>trip_distance</th>\n",
       "      <th>RatecodeID</th>\n",
       "      <th>PULocationID</th>\n",
       "      <th>DOLocationID</th>\n",
       "      <th>payment_type</th>\n",
       "      <th>total_amount</th>\n",
       "    </tr>\n",
       "  </thead>\n",
       "  <tbody>\n",
       "    <tr>\n",
       "      <th>3552</th>\n",
       "      <td>2019-01-01 00:18:46</td>\n",
       "      <td>2019-01-01 00:18:46</td>\n",
       "      <td>1.0</td>\n",
       "      <td>0.0</td>\n",
       "      <td>5.0</td>\n",
       "      <td>186</td>\n",
       "      <td>264</td>\n",
       "      <td>2</td>\n",
       "      <td>0.0</td>\n",
       "    </tr>\n",
       "    <tr>\n",
       "      <th>9138</th>\n",
       "      <td>2019-01-01 00:41:47</td>\n",
       "      <td>2019-01-01 00:41:47</td>\n",
       "      <td>1.0</td>\n",
       "      <td>0.0</td>\n",
       "      <td>5.0</td>\n",
       "      <td>246</td>\n",
       "      <td>264</td>\n",
       "      <td>2</td>\n",
       "      <td>0.0</td>\n",
       "    </tr>\n",
       "    <tr>\n",
       "      <th>13256</th>\n",
       "      <td>2019-01-01 00:19:38</td>\n",
       "      <td>2019-01-01 00:20:35</td>\n",
       "      <td>1.0</td>\n",
       "      <td>0.0</td>\n",
       "      <td>1.0</td>\n",
       "      <td>193</td>\n",
       "      <td>193</td>\n",
       "      <td>1</td>\n",
       "      <td>0.0</td>\n",
       "    </tr>\n",
       "    <tr>\n",
       "      <th>13257</th>\n",
       "      <td>2019-01-01 00:43:34</td>\n",
       "      <td>2019-01-01 00:43:34</td>\n",
       "      <td>1.0</td>\n",
       "      <td>0.0</td>\n",
       "      <td>1.0</td>\n",
       "      <td>7</td>\n",
       "      <td>7</td>\n",
       "      <td>2</td>\n",
       "      <td>0.0</td>\n",
       "    </tr>\n",
       "    <tr>\n",
       "      <th>13258</th>\n",
       "      <td>2019-01-01 00:02:52</td>\n",
       "      <td>2019-01-01 00:02:52</td>\n",
       "      <td>1.0</td>\n",
       "      <td>0.0</td>\n",
       "      <td>1.0</td>\n",
       "      <td>264</td>\n",
       "      <td>7</td>\n",
       "      <td>2</td>\n",
       "      <td>0.0</td>\n",
       "    </tr>\n",
       "  </tbody>\n",
       "</table>\n",
       "</div>"
      ],
      "text/plain": [
       "      tpep_pickup_datetime tpep_dropoff_datetime  passenger_count  \\\n",
       "3552   2019-01-01 00:18:46   2019-01-01 00:18:46              1.0   \n",
       "9138   2019-01-01 00:41:47   2019-01-01 00:41:47              1.0   \n",
       "13256  2019-01-01 00:19:38   2019-01-01 00:20:35              1.0   \n",
       "13257  2019-01-01 00:43:34   2019-01-01 00:43:34              1.0   \n",
       "13258  2019-01-01 00:02:52   2019-01-01 00:02:52              1.0   \n",
       "\n",
       "       trip_distance  RatecodeID  PULocationID  DOLocationID  payment_type  \\\n",
       "3552             0.0         5.0           186           264             2   \n",
       "9138             0.0         5.0           246           264             2   \n",
       "13256            0.0         1.0           193           193             1   \n",
       "13257            0.0         1.0             7             7             2   \n",
       "13258            0.0         1.0           264             7             2   \n",
       "\n",
       "       total_amount  \n",
       "3552            0.0  \n",
       "9138            0.0  \n",
       "13256           0.0  \n",
       "13257           0.0  \n",
       "13258           0.0  "
      ]
     },
     "execution_count": 89,
     "metadata": {},
     "output_type": "execute_result"
    }
   ],
   "source": [
    "print(taxi_data[taxi_data['total_amount']==0].shape)\n",
    "taxi_data[taxi_data['total_amount']==0].head()"
   ]
  },
  {
   "cell_type": "code",
   "execution_count": 90,
   "id": "302b2612",
   "metadata": {},
   "outputs": [
    {
     "data": {
      "text/plain": [
       "payment_type\n",
       "1    813\n",
       "2    569\n",
       "0    231\n",
       "3     29\n",
       "4      1\n",
       "Name: count, dtype: int64"
      ]
     },
     "execution_count": 90,
     "metadata": {},
     "output_type": "execute_result"
    }
   ],
   "source": [
    "taxi_data[taxi_data['total_amount']==0]['payment_type'].value_counts()"
   ]
  },
  {
   "cell_type": "code",
   "execution_count": 91,
   "id": "3f6330ab",
   "metadata": {},
   "outputs": [
    {
     "data": {
      "text/plain": [
       "<Axes: >"
      ]
     },
     "execution_count": 91,
     "metadata": {},
     "output_type": "execute_result"
    },
    {
     "data": {
      "image/png": "[encoded data removed]",
      "text/plain": [
       "<Figure size 1000x500 with 1 Axes>"
      ]
     },
     "metadata": {},
     "output_type": "display_data"
    }
   ],
   "source": [
    "taxi_data[taxi_data['total_amount']==0]['trip_distance'].hist(bins=60, figsize=(10,5))"
   ]
  },
  {
   "cell_type": "code",
   "execution_count": 92,
   "id": "06b21078",
   "metadata": {},
   "outputs": [
    {
     "data": {
      "text/plain": [
       "trip_distance\n",
       "0.00     1323\n",
       "0.03        9\n",
       "0.01        8\n",
       "0.06        6\n",
       "1.00        4\n",
       "         ... \n",
       "11.86       1\n",
       "4.59        1\n",
       "20.92       1\n",
       "18.37       1\n",
       "12.30       1\n",
       "Name: count, Length: 256, dtype: int64"
      ]
     },
     "execution_count": 92,
     "metadata": {},
     "output_type": "execute_result"
    }
   ],
   "source": [
    "taxi_data[taxi_data['total_amount']==0]['trip_distance'].value_counts()"
   ]
  },
  {
   "cell_type": "code",
   "execution_count": 93,
   "id": "68d3aa87",
   "metadata": {},
   "outputs": [
    {
     "data": {
      "text/plain": [
       "<Axes: xlabel='index', ylabel='total_amount'>"
      ]
     },
     "execution_count": 93,
     "metadata": {},
     "output_type": "execute_result"
    },
    {
     "data": {
      "image/png": "[encoded data removed]",
      "text/plain": [
       "<Figure size 1000x500 with 1 Axes>"
      ]
     },
     "metadata": {},
     "output_type": "display_data"
    }
   ],
   "source": [
    "taxi_data.reset_index().plot(kind='scatter', y='total_amount', x='index', figsize=(10,5))"
   ]
  },
  {
   "cell_type": "code",
   "execution_count": 94,
   "id": "40a498f9",
   "metadata": {},
   "outputs": [
    {
     "data": {
      "text/plain": [
       "(1166, 9)"
      ]
     },
     "execution_count": 94,
     "metadata": {},
     "output_type": "execute_result"
    }
   ],
   "source": [
    "taxi_data[taxi_data['total_amount']>200].shape  #checking for the values more than 200,basically we cannot go higher than this \n",
    "#price range"
   ]
  },
  {
   "cell_type": "code",
   "execution_count": 95,
   "id": "3e429e17",
   "metadata": {},
   "outputs": [
    {
     "data": {
      "text/plain": [
       "15.810651344610214"
      ]
     },
     "execution_count": 95,
     "metadata": {},
     "output_type": "execute_result"
    }
   ],
   "source": [
    "taxi_data['total_amount'].mean() #mean amount people are paying for the taxi"
   ]
  },
  {
   "cell_type": "code",
   "execution_count": 96,
   "id": "b28635d4",
   "metadata": {},
   "outputs": [],
   "source": [
    "taxi_data_filtered = taxi_data[(taxi_data['total_amount']>=0)&(taxi_data['total_amount']<200)]\n",
    "\n",
    "#getting rid of all the negative values and zero's and all the values lower than 200"
   ]
  },
  {
   "cell_type": "code",
   "execution_count": 97,
   "id": "cd9260c7",
   "metadata": {},
   "outputs": [
    {
     "name": "stdout",
     "output_type": "stream",
     "text": [
      "(7696617, 9)\n"
     ]
    },
    {
     "data": {
      "text/plain": [
       "(7688319, 9)"
      ]
     },
     "execution_count": 97,
     "metadata": {},
     "output_type": "execute_result"
    }
   ],
   "source": [
    "print(taxi_data.shape)\n",
    "taxi_data_filtered.shape"
   ]
  },
  {
   "cell_type": "markdown",
   "id": "7c425a99",
   "metadata": {},
   "source": [
    "Checking for missing values"
   ]
  },
  {
   "cell_type": "code",
   "execution_count": 98,
   "id": "3719a041",
   "metadata": {},
   "outputs": [
    {
     "data": {
      "text/plain": [
       "tpep_pickup_datetime         0\n",
       "tpep_dropoff_datetime        0\n",
       "passenger_count          28672\n",
       "trip_distance                0\n",
       "RatecodeID               28672\n",
       "PULocationID                 0\n",
       "DOLocationID                 0\n",
       "payment_type                 0\n",
       "total_amount                 0\n",
       "dtype: int64"
      ]
     },
     "execution_count": 98,
     "metadata": {},
     "output_type": "execute_result"
    }
   ],
   "source": [
    "taxi_data_filtered.isna().sum()\n",
    "\n",
    "#using pandas\n",
    "#This uses the Pandas DataFrame method isna() to create a DataFrame of boolean values. True indicates a missing or \n",
    "#null value, and False indicates a non-missing value."
   ]
  },
  {
   "cell_type": "code",
   "execution_count": 99,
   "id": "37f04e0e",
   "metadata": {},
   "outputs": [],
   "source": [
    "#dropping the missing values\n",
    "taxi_data_filtered_clean = taxi_data_filtered.dropna()"
   ]
  },
  {
   "cell_type": "code",
   "execution_count": 100,
   "id": "c4fa225a",
   "metadata": {},
   "outputs": [
    {
     "name": "stdout",
     "output_type": "stream",
     "text": [
      "Shape of original DataFrame: (7688319, 9)\n",
      "Shape of cleaned DataFrame: (7659647, 9)\n"
     ]
    }
   ],
   "source": [
    "# Check the shape of the cleaned DataFrame\n",
    "print(\"Shape of original DataFrame:\", taxi_data_filtered.shape)\n",
    "print(\"Shape of cleaned DataFrame:\", taxi_data_filtered_clean.shape)"
   ]
  },
  {
   "cell_type": "code",
   "execution_count": 101,
   "id": "751ff004",
   "metadata": {},
   "outputs": [
    {
     "name": "stdout",
     "output_type": "stream",
     "text": [
      "tpep_pickup_datetime     0\n",
      "tpep_dropoff_datetime    0\n",
      "passenger_count          0\n",
      "trip_distance            0\n",
      "RatecodeID               0\n",
      "PULocationID             0\n",
      "DOLocationID             0\n",
      "payment_type             0\n",
      "total_amount             0\n",
      "dtype: int64\n"
     ]
    }
   ],
   "source": [
    "#checking again\n",
    "missing_values = taxi_data_filtered_clean.isna().sum()\n",
    "\n",
    "# Display the count of missing values\n",
    "print(missing_values)"
   ]
  },
  {
   "cell_type": "markdown",
   "id": "0317a2c5",
   "metadata": {},
   "source": [
    "df.dropna() -> This drops the rows where atleast one value is missing"
   ]
  },
  {
   "cell_type": "markdown",
   "id": "af2dabef",
   "metadata": {},
   "source": [
    "Data Preparation\n",
    "Fixing incorrect datatypes for model preparation in ML"
   ]
  },
  {
   "cell_type": "code",
   "execution_count": 102,
   "id": "b4ade956",
   "metadata": {},
   "outputs": [],
   "source": [
    "#data frame names should be descriptive\n",
    "taxi_data_prepared = taxi_data_filtered.copy()\n",
    "\n",
    "#.copy copies the whole data and puts it into a new dataframe\n",
    "#there are two types of copy shallow copy and deep copy"
   ]
  },
  {
   "cell_type": "code",
   "execution_count": 103,
   "id": "9704fc73",
   "metadata": {},
   "outputs": [
    {
     "data": {
      "text/plain": [
       "tpep_pickup_datetime     datetime64[us]\n",
       "tpep_dropoff_datetime    datetime64[us]\n",
       "passenger_count                 float64\n",
       "trip_distance                   float64\n",
       "RatecodeID                      float64\n",
       "PULocationID                      int64\n",
       "DOLocationID                      int64\n",
       "payment_type                      int64\n",
       "total_amount                    float64\n",
       "dtype: object"
      ]
     },
     "execution_count": 103,
     "metadata": {},
     "output_type": "execute_result"
    }
   ],
   "source": [
    "taxi_data_prepared.dtypes"
   ]
  },
  {
   "cell_type": "code",
   "execution_count": 104,
   "id": "fa8ecb82",
   "metadata": {},
   "outputs": [],
   "source": [
    "taxi_data_prepared.loc[:,'tpep_pickup_datetime'] = pd.to_datetime(taxi_data_prepared.loc[:,'tpep_pickup_datetime'])\n",
    "taxi_data_prepared.loc[:,'tpep_dropoff_datetime'] = pd.to_datetime(taxi_data_prepared.loc[:,'tpep_dropoff_datetime'])"
   ]
  },
  {
   "cell_type": "code",
   "execution_count": 105,
   "id": "d44e2115",
   "metadata": {},
   "outputs": [],
   "source": [
    "#changing the datatypes to str so it will end up giving object in the ouptut\n",
    "taxi_data_prepared.loc[:,'RatecodeID']   = taxi_data_prepared['RatecodeID'].astype(str)\n",
    "taxi_data_prepared.loc[:,'PULocationID'] = taxi_data_prepared['PULocationID'].astype(str)\n",
    "taxi_data_prepared.loc[:,'DOLocationID'] = taxi_data_prepared['DOLocationID'].astype(str)\n",
    "taxi_data_prepared.loc[:,'payment_type'] = taxi_data_prepared['payment_type'].astype(str)"
   ]
  },
  {
   "cell_type": "code",
   "execution_count": 106,
   "id": "6df06332",
   "metadata": {},
   "outputs": [
    {
     "data": {
      "text/plain": [
       "tpep_pickup_datetime     datetime64[us]\n",
       "tpep_dropoff_datetime    datetime64[us]\n",
       "passenger_count                 float64\n",
       "trip_distance                   float64\n",
       "RatecodeID                       object\n",
       "PULocationID                     object\n",
       "DOLocationID                     object\n",
       "payment_type                     object\n",
       "total_amount                    float64\n",
       "dtype: object"
      ]
     },
     "execution_count": 106,
     "metadata": {},
     "output_type": "execute_result"
    }
   ],
   "source": [
    "taxi_data_prepared.dtypes"
   ]
  },
  {
   "cell_type": "code",
   "execution_count": 107,
   "id": "f7bd77e3",
   "metadata": {},
   "outputs": [
    {
     "data": {
      "text/html": [
       "<div>\n",
       "<style scoped>\n",
       "    .dataframe tbody tr th:only-of-type {\n",
       "        vertical-align: middle;\n",
       "    }\n",
       "\n",
       "    .dataframe tbody tr th {\n",
       "        vertical-align: top;\n",
       "    }\n",
       "\n",
       "    .dataframe thead th {\n",
       "        text-align: right;\n",
       "    }\n",
       "</style>\n",
       "<table border=\"1\" class=\"dataframe\">\n",
       "  <thead>\n",
       "    <tr style=\"text-align: right;\">\n",
       "      <th></th>\n",
       "      <th>tpep_pickup_datetime</th>\n",
       "      <th>tpep_dropoff_datetime</th>\n",
       "      <th>passenger_count</th>\n",
       "      <th>trip_distance</th>\n",
       "      <th>RatecodeID</th>\n",
       "      <th>PULocationID</th>\n",
       "      <th>DOLocationID</th>\n",
       "      <th>payment_type</th>\n",
       "      <th>total_amount</th>\n",
       "    </tr>\n",
       "  </thead>\n",
       "  <tbody>\n",
       "    <tr>\n",
       "      <th>0</th>\n",
       "      <td>2019-01-01 00:46:40</td>\n",
       "      <td>2019-01-01 00:53:20</td>\n",
       "      <td>1.0</td>\n",
       "      <td>1.5</td>\n",
       "      <td>1.0</td>\n",
       "      <td>151</td>\n",
       "      <td>239</td>\n",
       "      <td>1</td>\n",
       "      <td>9.95</td>\n",
       "    </tr>\n",
       "    <tr>\n",
       "      <th>1</th>\n",
       "      <td>2019-01-01 00:59:47</td>\n",
       "      <td>2019-01-01 01:18:59</td>\n",
       "      <td>1.0</td>\n",
       "      <td>2.6</td>\n",
       "      <td>1.0</td>\n",
       "      <td>239</td>\n",
       "      <td>246</td>\n",
       "      <td>1</td>\n",
       "      <td>16.30</td>\n",
       "    </tr>\n",
       "    <tr>\n",
       "      <th>2</th>\n",
       "      <td>2018-12-21 13:48:30</td>\n",
       "      <td>2018-12-21 13:52:40</td>\n",
       "      <td>3.0</td>\n",
       "      <td>0.0</td>\n",
       "      <td>1.0</td>\n",
       "      <td>236</td>\n",
       "      <td>236</td>\n",
       "      <td>1</td>\n",
       "      <td>5.80</td>\n",
       "    </tr>\n",
       "    <tr>\n",
       "      <th>3</th>\n",
       "      <td>2018-11-28 15:52:25</td>\n",
       "      <td>2018-11-28 15:55:45</td>\n",
       "      <td>5.0</td>\n",
       "      <td>0.0</td>\n",
       "      <td>1.0</td>\n",
       "      <td>193</td>\n",
       "      <td>193</td>\n",
       "      <td>2</td>\n",
       "      <td>7.55</td>\n",
       "    </tr>\n",
       "    <tr>\n",
       "      <th>4</th>\n",
       "      <td>2018-11-28 15:56:57</td>\n",
       "      <td>2018-11-28 15:58:33</td>\n",
       "      <td>5.0</td>\n",
       "      <td>0.0</td>\n",
       "      <td>2.0</td>\n",
       "      <td>193</td>\n",
       "      <td>193</td>\n",
       "      <td>2</td>\n",
       "      <td>55.55</td>\n",
       "    </tr>\n",
       "  </tbody>\n",
       "</table>\n",
       "</div>"
      ],
      "text/plain": [
       "  tpep_pickup_datetime tpep_dropoff_datetime  passenger_count  trip_distance  \\\n",
       "0  2019-01-01 00:46:40   2019-01-01 00:53:20              1.0            1.5   \n",
       "1  2019-01-01 00:59:47   2019-01-01 01:18:59              1.0            2.6   \n",
       "2  2018-12-21 13:48:30   2018-12-21 13:52:40              3.0            0.0   \n",
       "3  2018-11-28 15:52:25   2018-11-28 15:55:45              5.0            0.0   \n",
       "4  2018-11-28 15:56:57   2018-11-28 15:58:33              5.0            0.0   \n",
       "\n",
       "  RatecodeID PULocationID DOLocationID payment_type  total_amount  \n",
       "0        1.0          151          239            1          9.95  \n",
       "1        1.0          239          246            1         16.30  \n",
       "2        1.0          236          236            1          5.80  \n",
       "3        1.0          193          193            2          7.55  \n",
       "4        2.0          193          193            2         55.55  "
      ]
     },
     "execution_count": 107,
     "metadata": {},
     "output_type": "execute_result"
    }
   ],
   "source": [
    "taxi_data_prepared.head()"
   ]
  },
  {
   "cell_type": "code",
   "execution_count": 108,
   "id": "a7b0e3ff",
   "metadata": {},
   "outputs": [],
   "source": [
    "taxi_data_prepared['transaction_date'] = pd.to_datetime(taxi_data_prepared['tpep_pickup_datetime'].dt.date)\n",
    "# -> we make it datetime again because it's very little use when it's just a string (can't compare, sort, etc.)\n",
    "taxi_data_prepared['transaction_year'] = taxi_data_prepared['tpep_pickup_datetime'].dt.year\n",
    "taxi_data_prepared['transaction_month'] = taxi_data_prepared['tpep_pickup_datetime'].dt.month\n",
    "taxi_data_prepared['transaction_day'] =  taxi_data_prepared['tpep_pickup_datetime'].dt.day\n",
    "taxi_data_prepared['transaction_hour'] = taxi_data_prepared['tpep_pickup_datetime'].dt.hour"
   ]
  },
  {
   "cell_type": "code",
   "execution_count": 109,
   "id": "4594ea9b-b73d-42af-a036-4a11467d001c",
   "metadata": {},
   "outputs": [
    {
     "data": {
      "text/html": [
       "<div>\n",
       "<style scoped>\n",
       "    .dataframe tbody tr th:only-of-type {\n",
       "        vertical-align: middle;\n",
       "    }\n",
       "\n",
       "    .dataframe tbody tr th {\n",
       "        vertical-align: top;\n",
       "    }\n",
       "\n",
       "    .dataframe thead th {\n",
       "        text-align: right;\n",
       "    }\n",
       "</style>\n",
       "<table border=\"1\" class=\"dataframe\">\n",
       "  <thead>\n",
       "    <tr style=\"text-align: right;\">\n",
       "      <th></th>\n",
       "      <th>tpep_pickup_datetime</th>\n",
       "      <th>tpep_dropoff_datetime</th>\n",
       "      <th>passenger_count</th>\n",
       "      <th>trip_distance</th>\n",
       "      <th>RatecodeID</th>\n",
       "      <th>PULocationID</th>\n",
       "      <th>DOLocationID</th>\n",
       "      <th>payment_type</th>\n",
       "      <th>total_amount</th>\n",
       "      <th>transaction_date</th>\n",
       "      <th>transaction_year</th>\n",
       "      <th>transaction_month</th>\n",
       "      <th>transaction_day</th>\n",
       "      <th>transaction_hour</th>\n",
       "    </tr>\n",
       "  </thead>\n",
       "  <tbody>\n",
       "    <tr>\n",
       "      <th>0</th>\n",
       "      <td>2019-01-01 00:46:40</td>\n",
       "      <td>2019-01-01 00:53:20</td>\n",
       "      <td>1.0</td>\n",
       "      <td>1.5</td>\n",
       "      <td>1.0</td>\n",
       "      <td>151</td>\n",
       "      <td>239</td>\n",
       "      <td>1</td>\n",
       "      <td>9.95</td>\n",
       "      <td>2019-01-01</td>\n",
       "      <td>2019</td>\n",
       "      <td>1</td>\n",
       "      <td>1</td>\n",
       "      <td>0</td>\n",
       "    </tr>\n",
       "    <tr>\n",
       "      <th>1</th>\n",
       "      <td>2019-01-01 00:59:47</td>\n",
       "      <td>2019-01-01 01:18:59</td>\n",
       "      <td>1.0</td>\n",
       "      <td>2.6</td>\n",
       "      <td>1.0</td>\n",
       "      <td>239</td>\n",
       "      <td>246</td>\n",
       "      <td>1</td>\n",
       "      <td>16.30</td>\n",
       "      <td>2019-01-01</td>\n",
       "      <td>2019</td>\n",
       "      <td>1</td>\n",
       "      <td>1</td>\n",
       "      <td>0</td>\n",
       "    </tr>\n",
       "    <tr>\n",
       "      <th>2</th>\n",
       "      <td>2018-12-21 13:48:30</td>\n",
       "      <td>2018-12-21 13:52:40</td>\n",
       "      <td>3.0</td>\n",
       "      <td>0.0</td>\n",
       "      <td>1.0</td>\n",
       "      <td>236</td>\n",
       "      <td>236</td>\n",
       "      <td>1</td>\n",
       "      <td>5.80</td>\n",
       "      <td>2018-12-21</td>\n",
       "      <td>2018</td>\n",
       "      <td>12</td>\n",
       "      <td>21</td>\n",
       "      <td>13</td>\n",
       "    </tr>\n",
       "    <tr>\n",
       "      <th>3</th>\n",
       "      <td>2018-11-28 15:52:25</td>\n",
       "      <td>2018-11-28 15:55:45</td>\n",
       "      <td>5.0</td>\n",
       "      <td>0.0</td>\n",
       "      <td>1.0</td>\n",
       "      <td>193</td>\n",
       "      <td>193</td>\n",
       "      <td>2</td>\n",
       "      <td>7.55</td>\n",
       "      <td>2018-11-28</td>\n",
       "      <td>2018</td>\n",
       "      <td>11</td>\n",
       "      <td>28</td>\n",
       "      <td>15</td>\n",
       "    </tr>\n",
       "    <tr>\n",
       "      <th>4</th>\n",
       "      <td>2018-11-28 15:56:57</td>\n",
       "      <td>2018-11-28 15:58:33</td>\n",
       "      <td>5.0</td>\n",
       "      <td>0.0</td>\n",
       "      <td>2.0</td>\n",
       "      <td>193</td>\n",
       "      <td>193</td>\n",
       "      <td>2</td>\n",
       "      <td>55.55</td>\n",
       "      <td>2018-11-28</td>\n",
       "      <td>2018</td>\n",
       "      <td>11</td>\n",
       "      <td>28</td>\n",
       "      <td>15</td>\n",
       "    </tr>\n",
       "  </tbody>\n",
       "</table>\n",
       "</div>"
      ],
      "text/plain": [
       "  tpep_pickup_datetime tpep_dropoff_datetime  passenger_count  trip_distance  \\\n",
       "0  2019-01-01 00:46:40   2019-01-01 00:53:20              1.0            1.5   \n",
       "1  2019-01-01 00:59:47   2019-01-01 01:18:59              1.0            2.6   \n",
       "2  2018-12-21 13:48:30   2018-12-21 13:52:40              3.0            0.0   \n",
       "3  2018-11-28 15:52:25   2018-11-28 15:55:45              5.0            0.0   \n",
       "4  2018-11-28 15:56:57   2018-11-28 15:58:33              5.0            0.0   \n",
       "\n",
       "  RatecodeID PULocationID DOLocationID payment_type  total_amount  \\\n",
       "0        1.0          151          239            1          9.95   \n",
       "1        1.0          239          246            1         16.30   \n",
       "2        1.0          236          236            1          5.80   \n",
       "3        1.0          193          193            2          7.55   \n",
       "4        2.0          193          193            2         55.55   \n",
       "\n",
       "  transaction_date  transaction_year  transaction_month  transaction_day  \\\n",
       "0       2019-01-01              2019                  1                1   \n",
       "1       2019-01-01              2019                  1                1   \n",
       "2       2018-12-21              2018                 12               21   \n",
       "3       2018-11-28              2018                 11               28   \n",
       "4       2018-11-28              2018                 11               28   \n",
       "\n",
       "   transaction_hour  \n",
       "0                 0  \n",
       "1                 0  \n",
       "2                13  \n",
       "3                15  \n",
       "4                15  "
      ]
     },
     "execution_count": 109,
     "metadata": {},
     "output_type": "execute_result"
    }
   ],
   "source": [
    "taxi_data_prepared.head()"
   ]
  },
  {
   "cell_type": "code",
   "execution_count": 110,
   "id": "0d3b3ecd",
   "metadata": {},
   "outputs": [
    {
     "data": {
      "text/plain": [
       "array([[<Axes: title={'center': 'tpep_pickup_datetime'}>,\n",
       "        <Axes: title={'center': 'tpep_dropoff_datetime'}>,\n",
       "        <Axes: title={'center': 'passenger_count'}>],\n",
       "       [<Axes: title={'center': 'trip_distance'}>,\n",
       "        <Axes: title={'center': 'total_amount'}>,\n",
       "        <Axes: title={'center': 'transaction_date'}>],\n",
       "       [<Axes: title={'center': 'transaction_year'}>,\n",
       "        <Axes: title={'center': 'transaction_month'}>,\n",
       "        <Axes: title={'center': 'transaction_day'}>],\n",
       "       [<Axes: title={'center': 'transaction_hour'}>, <Axes: >, <Axes: >]],\n",
       "      dtype=object)"
      ]
     },
     "execution_count": 110,
     "metadata": {},
     "output_type": "execute_result"
    },
    {
     "data": {
      "image/png": "[encoded data removed]",
      "text/plain": [
       "<Figure size 2000x1000 with 12 Axes>"
      ]
     },
     "metadata": {},
     "output_type": "display_data"
    }
   ],
   "source": [
    "taxi_data_prepared.hist(figsize=(20,10), bins=60)"
   ]
  },
  {
   "cell_type": "code",
   "execution_count": 111,
   "id": "a80a4f44",
   "metadata": {},
   "outputs": [],
   "source": [
    "taxi_data_prepared = taxi_data_prepared[taxi_data_prepared['transaction_year']==2019]\n",
    "taxi_data_prepared = taxi_data_prepared[taxi_data_prepared['transaction_month']==1]"
   ]
  },
  {
   "cell_type": "markdown",
   "id": "e6d376ef",
   "metadata": {},
   "source": [
    "Problem Statement:- How much people spend in newyork in a certain region of new york in a given hour of a day"
   ]
  },
  {
   "cell_type": "markdown",
   "id": "23b28d52",
   "metadata": {},
   "source": [
    "The mathematical operation we have to perform here is we have to take the average"
   ]
  },
  {
   "cell_type": "code",
   "execution_count": 112,
   "id": "5d7c7da1",
   "metadata": {},
   "outputs": [],
   "source": [
    "categorical_columns = ['PULocationID','transaction_date','transaction_month','transaction_day','transaction_hour']\n",
    "numerical_columns = ['trip_distance','total_amount'] #these are the numerical columns/features this is what we are tyring\n",
    "# to predict\n",
    "all_needed_columns = categorical_columns + numerical_columns"
   ]
  },
  {
   "cell_type": "markdown",
   "id": "6a564d38",
   "metadata": {},
   "source": [
    "Basically we have to think of the stuff that will be useful to us while making our model"
   ]
  },
  {
   "cell_type": "code",
   "execution_count": 113,
   "id": "c872e29e",
   "metadata": {},
   "outputs": [
    {
     "name": "stdout",
     "output_type": "stream",
     "text": [
      "(7687783, 7)\n"
     ]
    },
    {
     "data": {
      "text/html": [
       "<div>\n",
       "<style scoped>\n",
       "    .dataframe tbody tr th:only-of-type {\n",
       "        vertical-align: middle;\n",
       "    }\n",
       "\n",
       "    .dataframe tbody tr th {\n",
       "        vertical-align: top;\n",
       "    }\n",
       "\n",
       "    .dataframe thead th {\n",
       "        text-align: right;\n",
       "    }\n",
       "</style>\n",
       "<table border=\"1\" class=\"dataframe\">\n",
       "  <thead>\n",
       "    <tr style=\"text-align: right;\">\n",
       "      <th></th>\n",
       "      <th>PULocationID</th>\n",
       "      <th>transaction_date</th>\n",
       "      <th>transaction_month</th>\n",
       "      <th>transaction_day</th>\n",
       "      <th>transaction_hour</th>\n",
       "      <th>trip_distance</th>\n",
       "      <th>total_amount</th>\n",
       "    </tr>\n",
       "  </thead>\n",
       "  <tbody>\n",
       "    <tr>\n",
       "      <th>0</th>\n",
       "      <td>151</td>\n",
       "      <td>2019-01-01</td>\n",
       "      <td>1</td>\n",
       "      <td>1</td>\n",
       "      <td>0</td>\n",
       "      <td>1.5</td>\n",
       "      <td>9.95</td>\n",
       "    </tr>\n",
       "    <tr>\n",
       "      <th>1</th>\n",
       "      <td>239</td>\n",
       "      <td>2019-01-01</td>\n",
       "      <td>1</td>\n",
       "      <td>1</td>\n",
       "      <td>0</td>\n",
       "      <td>2.6</td>\n",
       "      <td>16.30</td>\n",
       "    </tr>\n",
       "    <tr>\n",
       "      <th>7</th>\n",
       "      <td>163</td>\n",
       "      <td>2019-01-01</td>\n",
       "      <td>1</td>\n",
       "      <td>1</td>\n",
       "      <td>0</td>\n",
       "      <td>1.3</td>\n",
       "      <td>9.05</td>\n",
       "    </tr>\n",
       "    <tr>\n",
       "      <th>8</th>\n",
       "      <td>229</td>\n",
       "      <td>2019-01-01</td>\n",
       "      <td>1</td>\n",
       "      <td>1</td>\n",
       "      <td>0</td>\n",
       "      <td>3.7</td>\n",
       "      <td>18.50</td>\n",
       "    </tr>\n",
       "    <tr>\n",
       "      <th>9</th>\n",
       "      <td>141</td>\n",
       "      <td>2019-01-01</td>\n",
       "      <td>1</td>\n",
       "      <td>1</td>\n",
       "      <td>0</td>\n",
       "      <td>2.1</td>\n",
       "      <td>13.00</td>\n",
       "    </tr>\n",
       "  </tbody>\n",
       "</table>\n",
       "</div>"
      ],
      "text/plain": [
       "  PULocationID transaction_date  transaction_month  transaction_day  \\\n",
       "0          151       2019-01-01                  1                1   \n",
       "1          239       2019-01-01                  1                1   \n",
       "7          163       2019-01-01                  1                1   \n",
       "8          229       2019-01-01                  1                1   \n",
       "9          141       2019-01-01                  1                1   \n",
       "\n",
       "   transaction_hour  trip_distance  total_amount  \n",
       "0                 0            1.5          9.95  \n",
       "1                 0            2.6         16.30  \n",
       "7                 0            1.3          9.05  \n",
       "8                 0            3.7         18.50  \n",
       "9                 0            2.1         13.00  "
      ]
     },
     "execution_count": 113,
     "metadata": {},
     "output_type": "execute_result"
    }
   ],
   "source": [
    "main_taxi_df = taxi_data_prepared[all_needed_columns]\n",
    "print(main_taxi_df.shape)\n",
    "main_taxi_df.head()"
   ]
  },
  {
   "cell_type": "code",
   "execution_count": 114,
   "id": "d9e62c88",
   "metadata": {},
   "outputs": [],
   "source": [
    "#main_taxi_df.head(10) #learning :- we can specify the number of heads we want\n",
    "# main_taxi_df.head()"
   ]
  },
  {
   "cell_type": "code",
   "execution_count": 115,
   "id": "cf9bae43",
   "metadata": {},
   "outputs": [
    {
     "name": "stdout",
     "output_type": "stream",
     "text": [
      "(102713, 8)\n"
     ]
    },
    {
     "data": {
      "text/html": [
       "<div>\n",
       "<style scoped>\n",
       "    .dataframe tbody tr th:only-of-type {\n",
       "        vertical-align: middle;\n",
       "    }\n",
       "\n",
       "    .dataframe tbody tr th {\n",
       "        vertical-align: top;\n",
       "    }\n",
       "\n",
       "    .dataframe thead th {\n",
       "        text-align: right;\n",
       "    }\n",
       "</style>\n",
       "<table border=\"1\" class=\"dataframe\">\n",
       "  <thead>\n",
       "    <tr style=\"text-align: right;\">\n",
       "      <th></th>\n",
       "      <th>PULocationID</th>\n",
       "      <th>transaction_date</th>\n",
       "      <th>transaction_month</th>\n",
       "      <th>transaction_day</th>\n",
       "      <th>transaction_hour</th>\n",
       "      <th>trip_distance</th>\n",
       "      <th>total_amount</th>\n",
       "      <th>count_of_transactions</th>\n",
       "    </tr>\n",
       "  </thead>\n",
       "  <tbody>\n",
       "    <tr>\n",
       "      <th>0</th>\n",
       "      <td>1</td>\n",
       "      <td>2019-01-01</td>\n",
       "      <td>1</td>\n",
       "      <td>1</td>\n",
       "      <td>2</td>\n",
       "      <td>0.0</td>\n",
       "      <td>21.800</td>\n",
       "      <td>1</td>\n",
       "    </tr>\n",
       "    <tr>\n",
       "      <th>1</th>\n",
       "      <td>1</td>\n",
       "      <td>2019-01-01</td>\n",
       "      <td>1</td>\n",
       "      <td>1</td>\n",
       "      <td>5</td>\n",
       "      <td>0.0</td>\n",
       "      <td>87.300</td>\n",
       "      <td>1</td>\n",
       "    </tr>\n",
       "    <tr>\n",
       "      <th>2</th>\n",
       "      <td>1</td>\n",
       "      <td>2019-01-01</td>\n",
       "      <td>1</td>\n",
       "      <td>1</td>\n",
       "      <td>6</td>\n",
       "      <td>0.0</td>\n",
       "      <td>80.300</td>\n",
       "      <td>1</td>\n",
       "    </tr>\n",
       "    <tr>\n",
       "      <th>3</th>\n",
       "      <td>1</td>\n",
       "      <td>2019-01-01</td>\n",
       "      <td>1</td>\n",
       "      <td>1</td>\n",
       "      <td>8</td>\n",
       "      <td>0.0</td>\n",
       "      <td>128.580</td>\n",
       "      <td>2</td>\n",
       "    </tr>\n",
       "    <tr>\n",
       "      <th>4</th>\n",
       "      <td>1</td>\n",
       "      <td>2019-01-01</td>\n",
       "      <td>1</td>\n",
       "      <td>1</td>\n",
       "      <td>10</td>\n",
       "      <td>16.9</td>\n",
       "      <td>43.245</td>\n",
       "      <td>4</td>\n",
       "    </tr>\n",
       "  </tbody>\n",
       "</table>\n",
       "</div>"
      ],
      "text/plain": [
       "  PULocationID transaction_date  transaction_month  transaction_day  \\\n",
       "0            1       2019-01-01                  1                1   \n",
       "1            1       2019-01-01                  1                1   \n",
       "2            1       2019-01-01                  1                1   \n",
       "3            1       2019-01-01                  1                1   \n",
       "4            1       2019-01-01                  1                1   \n",
       "\n",
       "   transaction_hour  trip_distance  total_amount  count_of_transactions  \n",
       "0                 2            0.0        21.800                      1  \n",
       "1                 5            0.0        87.300                      1  \n",
       "2                 6            0.0        80.300                      1  \n",
       "3                 8            0.0       128.580                      2  \n",
       "4                10           16.9        43.245                      4  "
      ]
     },
     "execution_count": 115,
     "metadata": {},
     "output_type": "execute_result"
    }
   ],
   "source": [
    "taxi_grouped_by_region = main_taxi_df.groupby(categorical_columns).mean().reset_index()\n",
    "taxi_grouped_by_region['count_of_transactions'] = main_taxi_df.groupby(categorical_columns).count().reset_index()['total_amount']\n",
    "print(taxi_grouped_by_region.shape)\n",
    "taxi_grouped_by_region.head()"
   ]
  },
  {
   "cell_type": "markdown",
   "id": "f40bc9f1",
   "metadata": {},
   "source": [
    "Performing certain operations to check if any values are repeating or not"
   ]
  },
  {
   "cell_type": "code",
   "execution_count": 116,
   "id": "d1e8f019",
   "metadata": {},
   "outputs": [],
   "source": [
    "# print(main_taxi_df['PULocationID'].value_counts())\n",
    "#the bigger number is how many times one number appears in the column "
   ]
  },
  {
   "cell_type": "code",
   "execution_count": 117,
   "id": "7f649b50",
   "metadata": {},
   "outputs": [],
   "source": [
    "# main_taxi_df['Combined_Column'] = main_taxi_df['PULocationID'].astype(str) + '_' + main_taxi_df['total_amount'].astype(str)\n",
    "# print(main_taxi_df['Combined_Column'].value_counts())\n",
    "\n",
    "# #converting both the columns to strings \n",
    "# #putting the underscore as a seperator for both the columns"
   ]
  },
  {
   "cell_type": "code",
   "execution_count": 118,
   "id": "4eff40ae",
   "metadata": {},
   "outputs": [],
   "source": [
    "# print(main_taxi_df['PULocationID'].value_counts())"
   ]
  },
  {
   "cell_type": "markdown",
   "id": "0a7229bc",
   "metadata": {},
   "source": [
    "Now what we want to do is we want to get the location,date and hour lets say the same location,date and hour but with a different total amount"
   ]
  },
  {
   "cell_type": "code",
   "execution_count": 119,
   "id": "8096ee4b",
   "metadata": {},
   "outputs": [],
   "source": [
    "# taxi_grouped_by_region = main_taxi_df.groupby(categorical_columns).mean().reset_index()\n",
    "# taxi_grouped_by_region['count_of_transactions'] = main_taxi_df.groupby(categorical_columns).count().reset_index()['total_amount']\n",
    "# print(taxi_grouped_by_region.shape)\n",
    "# taxi_grouped_by_region.head()"
   ]
  },
  {
   "cell_type": "markdown",
   "id": "6ff58d26",
   "metadata": {},
   "source": [
    "Debugging the above issue"
   ]
  },
  {
   "cell_type": "code",
   "execution_count": 120,
   "id": "950bd34d",
   "metadata": {},
   "outputs": [],
   "source": [
    "# print(main_taxi_df[categorical_columns].dtypes)"
   ]
  },
  {
   "cell_type": "code",
   "execution_count": 121,
   "id": "b6e15108",
   "metadata": {},
   "outputs": [],
   "source": [
    "# print(main_taxi_df.isna().sum())"
   ]
  },
  {
   "cell_type": "markdown",
   "id": "7771cf31",
   "metadata": {},
   "source": [
    "Performing some more operation exploring the data even more"
   ]
  },
  {
   "cell_type": "code",
   "execution_count": 122,
   "id": "3bee47bb",
   "metadata": {},
   "outputs": [],
   "source": [
    "# test_group = main_taxi_df.head(100)  # Take the first 100 rows for testing\n",
    "# test_result = test_group.groupby(categorical_columns).mean().reset_index()\n",
    "# print(test_result)"
   ]
  },
  {
   "cell_type": "code",
   "execution_count": 123,
   "id": "dd7e5ec9",
   "metadata": {},
   "outputs": [],
   "source": [
    "# # Splitting the 'total_amount' column on '_' and converting the resulting values to numeric\n",
    "# main_taxi_df[['amount1', 'amount2']] = main_taxi_df['total_amount'].str.split('_', expand=True).apply(pd.to_numeric, errors='coerce')\n",
    "\n",
    "# # Dropping the original 'total_amount' column\n",
    "# main_taxi_df.drop('total_amount', axis=1, inplace=True)\n",
    "\n",
    "# # Checking the DataFrame after fixing the 'total_amount' column\n",
    "# main_taxi_df.head()"
   ]
  },
  {
   "cell_type": "markdown",
   "id": "a40913ae",
   "metadata": {},
   "source": [
    "Visualazing the above taxi_grouped_by_region"
   ]
  },
  {
   "cell_type": "code",
   "execution_count": 124,
   "id": "1fc8125f",
   "metadata": {},
   "outputs": [
    {
     "data": {
      "text/plain": [
       "<Axes: >"
      ]
     },
     "execution_count": 124,
     "metadata": {},
     "output_type": "execute_result"
    },
    {
     "data": {
      "image/png": "[encoded data removed]",
      "text/plain": [
       "<Figure size 1000x500 with 1 Axes>"
      ]
     },
     "metadata": {},
     "output_type": "display_data"
    }
   ],
   "source": [
    "taxi_grouped_by_region['trip_distance'].hist(bins=100, figsize=(10,5))"
   ]
  },
  {
   "cell_type": "code",
   "execution_count": 125,
   "id": "a9ab8415",
   "metadata": {},
   "outputs": [
    {
     "data": {
      "text/plain": [
       "<Axes: >"
      ]
     },
     "execution_count": 125,
     "metadata": {},
     "output_type": "execute_result"
    },
    {
     "data": {
      "image/png": "[encoded data removed]",
      "text/plain": [
       "<Figure size 1000x500 with 1 Axes>"
      ]
     },
     "metadata": {},
     "output_type": "display_data"
    }
   ],
   "source": [
    "taxi_grouped_by_region['total_amount'].hist(bins=100, figsize=(10,5))"
   ]
  },
  {
   "cell_type": "markdown",
   "id": "8d1118b7",
   "metadata": {},
   "source": [
    "# Bench Marking and fitting\n",
    "Bench marking means an actual bench mark we are trying to pass while training\n",
    "\n",
    "Benchmarking refers to evaluating and comparing the performance of different models or algorithms using standard datasets and metrics. This helps assess how well a model performs on specific tasks and helps understand which approaches work best for particular problems.\n",
    "\n",
    "Basically trying different algorithms and seeing which works the best \n",
    "\n",
    "Benchmarking involves trying different algorithms on the same dataset to see which one performs best based on specific metrics, like accuracy or F1 score\n",
    "\n",
    "# Fitting \n",
    "\n",
    "Fitting a model involves adjusting its parameters to improve accuracy and better capture the underlying patterns in the data, so it can make accurate predictions on new inputs.\n",
    "\n",
    "There are two things we need to take care of here input features and target features , target features are the things we want to predict\n",
    "\n",
    "\n",
    "Problem statement :- We want to figure out how much money or average money people spend in new york in a certain region in a give day, hour and month"
   ]
  },
  {
   "cell_type": "code",
   "execution_count": 126,
   "id": "3c230ea5-c597-4846-b2fa-7a2684506851",
   "metadata": {},
   "outputs": [],
   "source": [
    "data_for_benchmark_model = taxi_grouped_by_region.copy()"
   ]
  },
  {
   "cell_type": "code",
   "execution_count": 127,
   "id": "6530659a",
   "metadata": {},
   "outputs": [
    {
     "data": {
      "text/html": [
       "<div>\n",
       "<style scoped>\n",
       "    .dataframe tbody tr th:only-of-type {\n",
       "        vertical-align: middle;\n",
       "    }\n",
       "\n",
       "    .dataframe tbody tr th {\n",
       "        vertical-align: top;\n",
       "    }\n",
       "\n",
       "    .dataframe thead th {\n",
       "        text-align: right;\n",
       "    }\n",
       "</style>\n",
       "<table border=\"1\" class=\"dataframe\">\n",
       "  <thead>\n",
       "    <tr style=\"text-align: right;\">\n",
       "      <th></th>\n",
       "      <th>PULocationID</th>\n",
       "      <th>transaction_date</th>\n",
       "      <th>transaction_month</th>\n",
       "      <th>transaction_day</th>\n",
       "      <th>transaction_hour</th>\n",
       "      <th>trip_distance</th>\n",
       "      <th>total_amount</th>\n",
       "      <th>count_of_transactions</th>\n",
       "    </tr>\n",
       "  </thead>\n",
       "  <tbody>\n",
       "    <tr>\n",
       "      <th>0</th>\n",
       "      <td>1</td>\n",
       "      <td>2019-01-01</td>\n",
       "      <td>1</td>\n",
       "      <td>1</td>\n",
       "      <td>2</td>\n",
       "      <td>0.00</td>\n",
       "      <td>21.800</td>\n",
       "      <td>1</td>\n",
       "    </tr>\n",
       "    <tr>\n",
       "      <th>1</th>\n",
       "      <td>1</td>\n",
       "      <td>2019-01-01</td>\n",
       "      <td>1</td>\n",
       "      <td>1</td>\n",
       "      <td>5</td>\n",
       "      <td>0.00</td>\n",
       "      <td>87.300</td>\n",
       "      <td>1</td>\n",
       "    </tr>\n",
       "    <tr>\n",
       "      <th>2</th>\n",
       "      <td>1</td>\n",
       "      <td>2019-01-01</td>\n",
       "      <td>1</td>\n",
       "      <td>1</td>\n",
       "      <td>6</td>\n",
       "      <td>0.00</td>\n",
       "      <td>80.300</td>\n",
       "      <td>1</td>\n",
       "    </tr>\n",
       "    <tr>\n",
       "      <th>3</th>\n",
       "      <td>1</td>\n",
       "      <td>2019-01-01</td>\n",
       "      <td>1</td>\n",
       "      <td>1</td>\n",
       "      <td>8</td>\n",
       "      <td>0.00</td>\n",
       "      <td>128.580</td>\n",
       "      <td>2</td>\n",
       "    </tr>\n",
       "    <tr>\n",
       "      <th>4</th>\n",
       "      <td>1</td>\n",
       "      <td>2019-01-01</td>\n",
       "      <td>1</td>\n",
       "      <td>1</td>\n",
       "      <td>10</td>\n",
       "      <td>16.90</td>\n",
       "      <td>43.245</td>\n",
       "      <td>4</td>\n",
       "    </tr>\n",
       "    <tr>\n",
       "      <th>...</th>\n",
       "      <td>...</td>\n",
       "      <td>...</td>\n",
       "      <td>...</td>\n",
       "      <td>...</td>\n",
       "      <td>...</td>\n",
       "      <td>...</td>\n",
       "      <td>...</td>\n",
       "      <td>...</td>\n",
       "    </tr>\n",
       "    <tr>\n",
       "      <th>102708</th>\n",
       "      <td>98</td>\n",
       "      <td>2019-01-31</td>\n",
       "      <td>1</td>\n",
       "      <td>31</td>\n",
       "      <td>18</td>\n",
       "      <td>16.66</td>\n",
       "      <td>58.060</td>\n",
       "      <td>1</td>\n",
       "    </tr>\n",
       "    <tr>\n",
       "      <th>102709</th>\n",
       "      <td>99</td>\n",
       "      <td>2019-01-18</td>\n",
       "      <td>1</td>\n",
       "      <td>18</td>\n",
       "      <td>18</td>\n",
       "      <td>1.66</td>\n",
       "      <td>9.800</td>\n",
       "      <td>1</td>\n",
       "    </tr>\n",
       "    <tr>\n",
       "      <th>102710</th>\n",
       "      <td>99</td>\n",
       "      <td>2019-01-26</td>\n",
       "      <td>1</td>\n",
       "      <td>26</td>\n",
       "      <td>8</td>\n",
       "      <td>0.42</td>\n",
       "      <td>6.000</td>\n",
       "      <td>1</td>\n",
       "    </tr>\n",
       "    <tr>\n",
       "      <th>102711</th>\n",
       "      <td>99</td>\n",
       "      <td>2019-01-30</td>\n",
       "      <td>1</td>\n",
       "      <td>30</td>\n",
       "      <td>7</td>\n",
       "      <td>2.87</td>\n",
       "      <td>18.050</td>\n",
       "      <td>1</td>\n",
       "    </tr>\n",
       "    <tr>\n",
       "      <th>102712</th>\n",
       "      <td>99</td>\n",
       "      <td>2019-01-30</td>\n",
       "      <td>1</td>\n",
       "      <td>30</td>\n",
       "      <td>11</td>\n",
       "      <td>31.60</td>\n",
       "      <td>99.320</td>\n",
       "      <td>1</td>\n",
       "    </tr>\n",
       "  </tbody>\n",
       "</table>\n",
       "<p>102713 rows × 8 columns</p>\n",
       "</div>"
      ],
      "text/plain": [
       "       PULocationID transaction_date  transaction_month  transaction_day  \\\n",
       "0                 1       2019-01-01                  1                1   \n",
       "1                 1       2019-01-01                  1                1   \n",
       "2                 1       2019-01-01                  1                1   \n",
       "3                 1       2019-01-01                  1                1   \n",
       "4                 1       2019-01-01                  1                1   \n",
       "...             ...              ...                ...              ...   \n",
       "102708           98       2019-01-31                  1               31   \n",
       "102709           99       2019-01-18                  1               18   \n",
       "102710           99       2019-01-26                  1               26   \n",
       "102711           99       2019-01-30                  1               30   \n",
       "102712           99       2019-01-30                  1               30   \n",
       "\n",
       "        transaction_hour  trip_distance  total_amount  count_of_transactions  \n",
       "0                      2           0.00        21.800                      1  \n",
       "1                      5           0.00        87.300                      1  \n",
       "2                      6           0.00        80.300                      1  \n",
       "3                      8           0.00       128.580                      2  \n",
       "4                     10          16.90        43.245                      4  \n",
       "...                  ...            ...           ...                    ...  \n",
       "102708                18          16.66        58.060                      1  \n",
       "102709                18           1.66         9.800                      1  \n",
       "102710                 8           0.42         6.000                      1  \n",
       "102711                 7           2.87        18.050                      1  \n",
       "102712                11          31.60        99.320                      1  \n",
       "\n",
       "[102713 rows x 8 columns]"
      ]
     },
     "execution_count": 127,
     "metadata": {},
     "output_type": "execute_result"
    }
   ],
   "source": [
    "data_for_benchmark_model"
   ]
  },
  {
   "cell_type": "code",
   "execution_count": 128,
   "id": "cab4847f-1338-43d1-8e25-2a84126839da",
   "metadata": {},
   "outputs": [],
   "source": [
    "categorical_features_benchmark = ['PULocationID','transaction_month','transaction_day','transaction_hour']\n",
    "input_features_benchmark  = categorical_features_benchmark + ['trip_distance']\n",
    "target_feature_benchmark  = 'total_amount'"
   ]
  },
  {
   "cell_type": "markdown",
   "id": "55cfa763-2c27-45ba-8a97-55ad803730a0",
   "metadata": {},
   "source": [
    "# Train Test Split\n",
    "\n",
    "We have to split our dataset into train and Test dataset\n",
    "\n",
    "We have to split in percentage , basically we want enough data to train our model and also leave enough data for the test set\n",
    "\n",
    "0.33 -> This means that one third of the dataset will be test dataset and two thirds will be the training \n",
    "\n",
    "Link to one-hot encoding -> https://www.geeksforgeeks.org/ml-one-hot-encoding/\n",
    "\n",
    "Basically machine learning models do not work well with categorical data we have both types of data like numerical and categorical \n",
    "\n",
    " For example, suppose a dataset has a Gender column with categorical elements like Male and  Female. These labels have no specific order of preference and also since the data is string labels, machine learning models misinterpreted that there is some sort of hierarchy in them.\n",
    "\n",
    "One approach to solve this problem can be label encoding where we will assign a numerical value to these labels for example Male and Female mapped to 0 and 1. But this can add bias in our model as it will start giving higher preference to the Female parameter as 1>0 but ideally, both labels are equally important in the dataset. To deal with this issue we will use the One Hot Encoding techniqu\n",
    "\n",
    "## One hot encoding is a technique that we use to represent categorical variables as numerical values in a machine learning model.e."
   ]
  },
  {
   "cell_type": "code",
   "execution_count": 129,
   "id": "4dec8fda-8f42-45b5-b1e1-6de77bc9741a",
   "metadata": {},
   "outputs": [],
   "source": [
    "import pandas as pd\n",
    "from sklearn.model_selection import train_test_split\n",
    "\n",
    "# X_bench = data_for_benchmark_model[input_features_benchmark]\n",
    "# y_bench = data_for_benchmark_model[target_feature_benchmark]\n",
    "\n",
    "# # one-hot encode\n",
    "# X_bench = pd.get_dummies(X_bench)\n",
    "\n",
    "# X_train_b, X_test_b, y_train_b, y_test_b = train_test_split(X_bench, y_bench, test_size=0.33, random_state=42)\n",
    "\n",
    "X_bench = data_for_benchmark_model[input_features_benchmark]\n",
    "y_bench = data_for_benchmark_model[target_feature_benchmark]\n",
    "\n",
    "X_bench = pd.get_dummies(X_bench)\n",
    "X_train_b, X_test_b, y_train_b, y_test_b = train_test_split(X_bench, y_bench, test_size=0.33, random_state=42)\n"
   ]
  },
  {
   "cell_type": "markdown",
   "id": "a4e9540d-e460-4ba0-bd45-7eab0ccab849",
   "metadata": {},
   "source": [
    "# Fitting the data to our model\n",
    "\n",
    "Fitting a model involves adjusting its parameters to improve accuracy and better capture the underlying patterns in the data, so it can make accurate predictions on new inputs.\n",
    "\n",
    "There are two things we need to take care of here input features and target features , target features are the things we want to predionth"
   ]
  },
  {
   "cell_type": "code",
   "execution_count": 130,
   "id": "f0f2fa9d-2645-4fa2-a57b-83f2054c2277",
   "metadata": {},
   "outputs": [
    {
     "data": {
      "text/html": [
       "<style>#sk-container-id-1 {\n",
       "  /* Definition of color scheme common for light and dark mode */\n",
       "  --sklearn-color-text: black;\n",
       "  --sklearn-color-line: gray;\n",
       "  /* Definition of color scheme for unfitted estimators */\n",
       "  --sklearn-color-unfitted-level-0: #fff5e6;\n",
       "  --sklearn-color-unfitted-level-1: #f6e4d2;\n",
       "  --sklearn-color-unfitted-level-2: #ffe0b3;\n",
       "  --sklearn-color-unfitted-level-3: chocolate;\n",
       "  /* Definition of color scheme for fitted estimators */\n",
       "  --sklearn-color-fitted-level-0: #f0f8ff;\n",
       "  --sklearn-color-fitted-level-1: #d4ebff;\n",
       "  --sklearn-color-fitted-level-2: #b3dbfd;\n",
       "  --sklearn-color-fitted-level-3: cornflowerblue;\n",
       "\n",
       "  /* Specific color for light theme */\n",
       "  --sklearn-color-text-on-default-background: var(--sg-text-color, var(--theme-code-foreground, var(--jp-content-font-color1, black)));\n",
       "  --sklearn-color-background: var(--sg-background-color, var(--theme-background, var(--jp-layout-color0, white)));\n",
       "  --sklearn-color-border-box: var(--sg-text-color, var(--theme-code-foreground, var(--jp-content-font-color1, black)));\n",
       "  --sklearn-color-icon: #696969;\n",
       "\n",
       "  @media (prefers-color-scheme: dark) {\n",
       "    /* Redefinition of color scheme for dark theme */\n",
       "    --sklearn-color-text-on-default-background: var(--sg-text-color, var(--theme-code-foreground, var(--jp-content-font-color1, white)));\n",
       "    --sklearn-color-background: var(--sg-background-color, var(--theme-background, var(--jp-layout-color0, #111)));\n",
       "    --sklearn-color-border-box: var(--sg-text-color, var(--theme-code-foreground, var(--jp-content-font-color1, white)));\n",
       "    --sklearn-color-icon: #878787;\n",
       "  }\n",
       "}\n",
       "\n",
       "#sk-container-id-1 {\n",
       "  color: var(--sklearn-color-text);\n",
       "}\n",
       "\n",
       "#sk-container-id-1 pre {\n",
       "  padding: 0;\n",
       "}\n",
       "\n",
       "#sk-container-id-1 input.sk-hidden--visually {\n",
       "  border: 0;\n",
       "  clip: rect(1px 1px 1px 1px);\n",
       "  clip: rect(1px, 1px, 1px, 1px);\n",
       "  height: 1px;\n",
       "  margin: -1px;\n",
       "  overflow: hidden;\n",
       "  padding: 0;\n",
       "  position: absolute;\n",
       "  width: 1px;\n",
       "}\n",
       "\n",
       "#sk-container-id-1 div.sk-dashed-wrapped {\n",
       "  border: 1px dashed var(--sklearn-color-line);\n",
       "  margin: 0 0.4em 0.5em 0.4em;\n",
       "  box-sizing: border-box;\n",
       "  padding-bottom: 0.4em;\n",
       "  background-color: var(--sklearn-color-background);\n",
       "}\n",
       "\n",
       "#sk-container-id-1 div.sk-container {\n",
       "  /* jupyter's `normalize.less` sets `[hidden] { display: none; }`\n",
       "     but bootstrap.min.css set `[hidden] { display: none !important; }`\n",
       "     so we also need the `!important` here to be able to override the\n",
       "     default hidden behavior on the sphinx rendered scikit-learn.org.\n",
       "     See: https://github.com/scikit-learn/scikit-learn/issues/21755 */\n",
       "  display: inline-block !important;\n",
       "  position: relative;\n",
       "}\n",
       "\n",
       "#sk-container-id-1 div.sk-text-repr-fallback {\n",
       "  display: none;\n",
       "}\n",
       "\n",
       "div.sk-parallel-item,\n",
       "div.sk-serial,\n",
       "div.sk-item {\n",
       "  /* draw centered vertical line to link estimators */\n",
       "  background-image: linear-gradient(var(--sklearn-color-text-on-default-background), var(--sklearn-color-text-on-default-background));\n",
       "  background-size: 2px 100%;\n",
       "  background-repeat: no-repeat;\n",
       "  background-position: center center;\n",
       "}\n",
       "\n",
       "/* Parallel-specific style estimator block */\n",
       "\n",
       "#sk-container-id-1 div.sk-parallel-item::after {\n",
       "  content: \"\";\n",
       "  width: 100%;\n",
       "  border-bottom: 2px solid var(--sklearn-color-text-on-default-background);\n",
       "  flex-grow: 1;\n",
       "}\n",
       "\n",
       "#sk-container-id-1 div.sk-parallel {\n",
       "  display: flex;\n",
       "  align-items: stretch;\n",
       "  justify-content: center;\n",
       "  background-color: var(--sklearn-color-background);\n",
       "  position: relative;\n",
       "}\n",
       "\n",
       "#sk-container-id-1 div.sk-parallel-item {\n",
       "  display: flex;\n",
       "  flex-direction: column;\n",
       "}\n",
       "\n",
       "#sk-container-id-1 div.sk-parallel-item:first-child::after {\n",
       "  align-self: flex-end;\n",
       "  width: 50%;\n",
       "}\n",
       "\n",
       "#sk-container-id-1 div.sk-parallel-item:last-child::after {\n",
       "  align-self: flex-start;\n",
       "  width: 50%;\n",
       "}\n",
       "\n",
       "#sk-container-id-1 div.sk-parallel-item:only-child::after {\n",
       "  width: 0;\n",
       "}\n",
       "\n",
       "/* Serial-specific style estimator block */\n",
       "\n",
       "#sk-container-id-1 div.sk-serial {\n",
       "  display: flex;\n",
       "  flex-direction: column;\n",
       "  align-items: center;\n",
       "  background-color: var(--sklearn-color-background);\n",
       "  padding-right: 1em;\n",
       "  padding-left: 1em;\n",
       "}\n",
       "\n",
       "\n",
       "/* Toggleable style: style used for estimator/Pipeline/ColumnTransformer box that is\n",
       "clickable and can be expanded/collapsed.\n",
       "- Pipeline and ColumnTransformer use this feature and define the default style\n",
       "- Estimators will overwrite some part of the style using the `sk-estimator` class\n",
       "*/\n",
       "\n",
       "/* Pipeline and ColumnTransformer style (default) */\n",
       "\n",
       "#sk-container-id-1 div.sk-toggleable {\n",
       "  /* Default theme specific background. It is overwritten whether we have a\n",
       "  specific estimator or a Pipeline/ColumnTransformer */\n",
       "  background-color: var(--sklearn-color-background);\n",
       "}\n",
       "\n",
       "/* Toggleable label */\n",
       "#sk-container-id-1 label.sk-toggleable__label {\n",
       "  cursor: pointer;\n",
       "  display: block;\n",
       "  width: 100%;\n",
       "  margin-bottom: 0;\n",
       "  padding: 0.5em;\n",
       "  box-sizing: border-box;\n",
       "  text-align: center;\n",
       "}\n",
       "\n",
       "#sk-container-id-1 label.sk-toggleable__label-arrow:before {\n",
       "  /* Arrow on the left of the label */\n",
       "  content: \"▸\";\n",
       "  float: left;\n",
       "  margin-right: 0.25em;\n",
       "  color: var(--sklearn-color-icon);\n",
       "}\n",
       "\n",
       "#sk-container-id-1 label.sk-toggleable__label-arrow:hover:before {\n",
       "  color: var(--sklearn-color-text);\n",
       "}\n",
       "\n",
       "/* Toggleable content - dropdown */\n",
       "\n",
       "#sk-container-id-1 div.sk-toggleable__content {\n",
       "  max-height: 0;\n",
       "  max-width: 0;\n",
       "  overflow: hidden;\n",
       "  text-align: left;\n",
       "  /* unfitted */\n",
       "  background-color: var(--sklearn-color-unfitted-level-0);\n",
       "}\n",
       "\n",
       "#sk-container-id-1 div.sk-toggleable__content.fitted {\n",
       "  /* fitted */\n",
       "  background-color: var(--sklearn-color-fitted-level-0);\n",
       "}\n",
       "\n",
       "#sk-container-id-1 div.sk-toggleable__content pre {\n",
       "  margin: 0.2em;\n",
       "  border-radius: 0.25em;\n",
       "  color: var(--sklearn-color-text);\n",
       "  /* unfitted */\n",
       "  background-color: var(--sklearn-color-unfitted-level-0);\n",
       "}\n",
       "\n",
       "#sk-container-id-1 div.sk-toggleable__content.fitted pre {\n",
       "  /* unfitted */\n",
       "  background-color: var(--sklearn-color-fitted-level-0);\n",
       "}\n",
       "\n",
       "#sk-container-id-1 input.sk-toggleable__control:checked~div.sk-toggleable__content {\n",
       "  /* Expand drop-down */\n",
       "  max-height: 200px;\n",
       "  max-width: 100%;\n",
       "  overflow: auto;\n",
       "}\n",
       "\n",
       "#sk-container-id-1 input.sk-toggleable__control:checked~label.sk-toggleable__label-arrow:before {\n",
       "  content: \"▾\";\n",
       "}\n",
       "\n",
       "/* Pipeline/ColumnTransformer-specific style */\n",
       "\n",
       "#sk-container-id-1 div.sk-label input.sk-toggleable__control:checked~label.sk-toggleable__label {\n",
       "  color: var(--sklearn-color-text);\n",
       "  background-color: var(--sklearn-color-unfitted-level-2);\n",
       "}\n",
       "\n",
       "#sk-container-id-1 div.sk-label.fitted input.sk-toggleable__control:checked~label.sk-toggleable__label {\n",
       "  background-color: var(--sklearn-color-fitted-level-2);\n",
       "}\n",
       "\n",
       "/* Estimator-specific style */\n",
       "\n",
       "/* Colorize estimator box */\n",
       "#sk-container-id-1 div.sk-estimator input.sk-toggleable__control:checked~label.sk-toggleable__label {\n",
       "  /* unfitted */\n",
       "  background-color: var(--sklearn-color-unfitted-level-2);\n",
       "}\n",
       "\n",
       "#sk-container-id-1 div.sk-estimator.fitted input.sk-toggleable__control:checked~label.sk-toggleable__label {\n",
       "  /* fitted */\n",
       "  background-color: var(--sklearn-color-fitted-level-2);\n",
       "}\n",
       "\n",
       "#sk-container-id-1 div.sk-label label.sk-toggleable__label,\n",
       "#sk-container-id-1 div.sk-label label {\n",
       "  /* The background is the default theme color */\n",
       "  color: var(--sklearn-color-text-on-default-background);\n",
       "}\n",
       "\n",
       "/* On hover, darken the color of the background */\n",
       "#sk-container-id-1 div.sk-label:hover label.sk-toggleable__label {\n",
       "  color: var(--sklearn-color-text);\n",
       "  background-color: var(--sklearn-color-unfitted-level-2);\n",
       "}\n",
       "\n",
       "/* Label box, darken color on hover, fitted */\n",
       "#sk-container-id-1 div.sk-label.fitted:hover label.sk-toggleable__label.fitted {\n",
       "  color: var(--sklearn-color-text);\n",
       "  background-color: var(--sklearn-color-fitted-level-2);\n",
       "}\n",
       "\n",
       "/* Estimator label */\n",
       "\n",
       "#sk-container-id-1 div.sk-label label {\n",
       "  font-family: monospace;\n",
       "  font-weight: bold;\n",
       "  display: inline-block;\n",
       "  line-height: 1.2em;\n",
       "}\n",
       "\n",
       "#sk-container-id-1 div.sk-label-container {\n",
       "  text-align: center;\n",
       "}\n",
       "\n",
       "/* Estimator-specific */\n",
       "#sk-container-id-1 div.sk-estimator {\n",
       "  font-family: monospace;\n",
       "  border: 1px dotted var(--sklearn-color-border-box);\n",
       "  border-radius: 0.25em;\n",
       "  box-sizing: border-box;\n",
       "  margin-bottom: 0.5em;\n",
       "  /* unfitted */\n",
       "  background-color: var(--sklearn-color-unfitted-level-0);\n",
       "}\n",
       "\n",
       "#sk-container-id-1 div.sk-estimator.fitted {\n",
       "  /* fitted */\n",
       "  background-color: var(--sklearn-color-fitted-level-0);\n",
       "}\n",
       "\n",
       "/* on hover */\n",
       "#sk-container-id-1 div.sk-estimator:hover {\n",
       "  /* unfitted */\n",
       "  background-color: var(--sklearn-color-unfitted-level-2);\n",
       "}\n",
       "\n",
       "#sk-container-id-1 div.sk-estimator.fitted:hover {\n",
       "  /* fitted */\n",
       "  background-color: var(--sklearn-color-fitted-level-2);\n",
       "}\n",
       "\n",
       "/* Specification for estimator info (e.g. \"i\" and \"?\") */\n",
       "\n",
       "/* Common style for \"i\" and \"?\" */\n",
       "\n",
       ".sk-estimator-doc-link,\n",
       "a:link.sk-estimator-doc-link,\n",
       "a:visited.sk-estimator-doc-link {\n",
       "  float: right;\n",
       "  font-size: smaller;\n",
       "  line-height: 1em;\n",
       "  font-family: monospace;\n",
       "  background-color: var(--sklearn-color-background);\n",
       "  border-radius: 1em;\n",
       "  height: 1em;\n",
       "  width: 1em;\n",
       "  text-decoration: none !important;\n",
       "  margin-left: 1ex;\n",
       "  /* unfitted */\n",
       "  border: var(--sklearn-color-unfitted-level-1) 1pt solid;\n",
       "  color: var(--sklearn-color-unfitted-level-1);\n",
       "}\n",
       "\n",
       ".sk-estimator-doc-link.fitted,\n",
       "a:link.sk-estimator-doc-link.fitted,\n",
       "a:visited.sk-estimator-doc-link.fitted {\n",
       "  /* fitted */\n",
       "  border: var(--sklearn-color-fitted-level-1) 1pt solid;\n",
       "  color: var(--sklearn-color-fitted-level-1);\n",
       "}\n",
       "\n",
       "/* On hover */\n",
       "div.sk-estimator:hover .sk-estimator-doc-link:hover,\n",
       ".sk-estimator-doc-link:hover,\n",
       "div.sk-label-container:hover .sk-estimator-doc-link:hover,\n",
       ".sk-estimator-doc-link:hover {\n",
       "  /* unfitted */\n",
       "  background-color: var(--sklearn-color-unfitted-level-3);\n",
       "  color: var(--sklearn-color-background);\n",
       "  text-decoration: none;\n",
       "}\n",
       "\n",
       "div.sk-estimator.fitted:hover .sk-estimator-doc-link.fitted:hover,\n",
       ".sk-estimator-doc-link.fitted:hover,\n",
       "div.sk-label-container:hover .sk-estimator-doc-link.fitted:hover,\n",
       ".sk-estimator-doc-link.fitted:hover {\n",
       "  /* fitted */\n",
       "  background-color: var(--sklearn-color-fitted-level-3);\n",
       "  color: var(--sklearn-color-background);\n",
       "  text-decoration: none;\n",
       "}\n",
       "\n",
       "/* Span, style for the box shown on hovering the info icon */\n",
       ".sk-estimator-doc-link span {\n",
       "  display: none;\n",
       "  z-index: 9999;\n",
       "  position: relative;\n",
       "  font-weight: normal;\n",
       "  right: .2ex;\n",
       "  padding: .5ex;\n",
       "  margin: .5ex;\n",
       "  width: min-content;\n",
       "  min-width: 20ex;\n",
       "  max-width: 50ex;\n",
       "  color: var(--sklearn-color-text);\n",
       "  box-shadow: 2pt 2pt 4pt #999;\n",
       "  /* unfitted */\n",
       "  background: var(--sklearn-color-unfitted-level-0);\n",
       "  border: .5pt solid var(--sklearn-color-unfitted-level-3);\n",
       "}\n",
       "\n",
       ".sk-estimator-doc-link.fitted span {\n",
       "  /* fitted */\n",
       "  background: var(--sklearn-color-fitted-level-0);\n",
       "  border: var(--sklearn-color-fitted-level-3);\n",
       "}\n",
       "\n",
       ".sk-estimator-doc-link:hover span {\n",
       "  display: block;\n",
       "}\n",
       "\n",
       "/* \"?\"-specific style due to the `<a>` HTML tag */\n",
       "\n",
       "#sk-container-id-1 a.estimator_doc_link {\n",
       "  float: right;\n",
       "  font-size: 1rem;\n",
       "  line-height: 1em;\n",
       "  font-family: monospace;\n",
       "  background-color: var(--sklearn-color-background);\n",
       "  border-radius: 1rem;\n",
       "  height: 1rem;\n",
       "  width: 1rem;\n",
       "  text-decoration: none;\n",
       "  /* unfitted */\n",
       "  color: var(--sklearn-color-unfitted-level-1);\n",
       "  border: var(--sklearn-color-unfitted-level-1) 1pt solid;\n",
       "}\n",
       "\n",
       "#sk-container-id-1 a.estimator_doc_link.fitted {\n",
       "  /* fitted */\n",
       "  border: var(--sklearn-color-fitted-level-1) 1pt solid;\n",
       "  color: var(--sklearn-color-fitted-level-1);\n",
       "}\n",
       "\n",
       "/* On hover */\n",
       "#sk-container-id-1 a.estimator_doc_link:hover {\n",
       "  /* unfitted */\n",
       "  background-color: var(--sklearn-color-unfitted-level-3);\n",
       "  color: var(--sklearn-color-background);\n",
       "  text-decoration: none;\n",
       "}\n",
       "\n",
       "#sk-container-id-1 a.estimator_doc_link.fitted:hover {\n",
       "  /* fitted */\n",
       "  background-color: var(--sklearn-color-fitted-level-3);\n",
       "}\n",
       "</style><div id=\"sk-container-id-1\" class=\"sk-top-container\"><div class=\"sk-text-repr-fallback\"><pre>DecisionTreeRegressor(max_depth=10)</pre><b>In a Jupyter environment, please rerun this cell to show the HTML representation or trust the notebook. <br />On GitHub, the HTML representation is unable to render, please try loading this page with nbviewer.org.</b></div><div class=\"sk-container\" hidden><div class=\"sk-item\"><div class=\"sk-estimator fitted sk-toggleable\"><input class=\"sk-toggleable__control sk-hidden--visually\" id=\"sk-estimator-id-1\" type=\"checkbox\" checked><label for=\"sk-estimator-id-1\" class=\"sk-toggleable__label fitted sk-toggleable__label-arrow fitted\">&nbsp;&nbsp;DecisionTreeRegressor<a class=\"sk-estimator-doc-link fitted\" rel=\"noreferrer\" target=\"_blank\" href=\"https://scikit-learn.org/1.4/modules/generated/sklearn.tree.DecisionTreeRegressor.html\">?<span>Documentation for DecisionTreeRegressor</span></a><span class=\"sk-estimator-doc-link fitted\">i<span>Fitted</span></span></label><div class=\"sk-toggleable__content fitted\"><pre>DecisionTreeRegressor(max_depth=10)</pre></div> </div></div></div></div>"
      ],
      "text/plain": [
       "DecisionTreeRegressor(max_depth=10)"
      ]
     },
     "execution_count": 130,
     "metadata": {},
     "output_type": "execute_result"
    }
   ],
   "source": [
    "from sklearn.tree import DecisionTreeRegressor\n",
    "\n",
    "tree = DecisionTreeRegressor(max_depth = 10) #map depth is a hyperparameter here we have to think hyperparameters as knobs and settings \n",
    "# here we are deciding how deep we are letting the tree go\n",
    "tree.fit(X_train_b,y_train_b)"
   ]
  },
  {
   "cell_type": "markdown",
   "id": "91a2f357-ccfa-4403-a76c-5ee53d35b40d",
   "metadata": {},
   "source": [
    "# Model evaluation \n",
    "\n",
    "Since the model is trained we want to see how it performed , like how it is predicting is it good is it bad \n",
    "\n",
    "We are gonna be comparing the test to the predicted value to see how well we did"
   ]
  },
  {
   "cell_type": "code",
   "execution_count": 131,
   "id": "a7c41d45-6c69-45ca-aaf5-c22ccc2cb577",
   "metadata": {},
   "outputs": [
    {
     "name": "stdout",
     "output_type": "stream",
     "text": [
      "mean absolute error 3.3814697003893883\n",
      "mean squared error 60.81382694957096\n",
      "root mean squared error 7.79832205987743\n",
      "r2 0.7933289730995358\n"
     ]
    }
   ],
   "source": [
    "model_at_hand = tree\n",
    "y_pred_b = model_at_hand.predict(X_test_b)\n",
    "\n",
    "from sklearn.metrics import mean_absolute_error\n",
    "from sklearn.metrics import mean_squared_error\n",
    "from sklearn.metrics import r2_score\n",
    "from numpy import sqrt\n",
    "\n",
    "print('mean absolute error', mean_absolute_error(y_test_b, y_pred_b)) #what's mae -> the difference between what we predicted and what the actual value was\n",
    "# here the outcome was three dollars\n",
    "print('mean squared error', mean_squared_error(y_test_b, y_pred_b)) #what's mse -> it's the same as mae but it takes the square of it, if there is a bigger difference \n",
    "print('root mean squared error', sqrt(mean_squared_error(y_test_b, y_pred_b))) # it's the same as mean_squared_error but we root it\n",
    "print('r2', r2_score(y_test_b, y_pred_b)) #r2 score shows how good a model fits the pattern of the data \n",
    "\n",
    "# if score is 0 it's not good"
   ]
  },
  {
   "cell_type": "code",
   "execution_count": 132,
   "id": "02819652-9cf3-4aa0-b8bc-9deba5fddd6e",
   "metadata": {},
   "outputs": [
    {
     "data": {
      "text/plain": [
       "<Axes: xlabel='true', ylabel='pred'>"
      ]
     },
     "execution_count": 132,
     "metadata": {},
     "output_type": "execute_result"
    },
    {
     "data": {
      "image/png": "[encoded data removed]",
      "text/plain": [
       "<Figure size 2000x1000 with 1 Axes>"
      ]
     },
     "metadata": {},
     "output_type": "display_data"
    }
   ],
   "source": [
    "data = {'true':y_test_b,'pred':y_pred_b}\n",
    "results = pd.DataFrame(data)\n",
    "\n",
    "results.plot(figsize = (20,10),kind = 'scatter',x = 'true',y = 'pred')"
   ]
  },
  {
   "cell_type": "markdown",
   "id": "e2c7d0bb-6843-4498-9991-002419db60e5",
   "metadata": {},
   "source": [
    "# Problem Fix "
   ]
  },
  {
   "cell_type": "code",
   "execution_count": 133,
   "id": "fea7fdc0-bb39-4ef6-87f1-f4f2a9bb8828",
   "metadata": {},
   "outputs": [
    {
     "name": "stdout",
     "output_type": "stream",
     "text": [
      "mean_absolute_error 10.706155050432884\n",
      "mean_squared_error 241.29161151152772\n",
      "root_mean_squared_error 15.53356403120442\n",
      "r2 0.17998936039812685\n"
     ]
    }
   ],
   "source": [
    "categorical_features_benchmark = ['PULocationID','transaction_month','transaction_day','transaction_hour']\n",
    "input_features_benchmark  = categorical_features_benchmark\n",
    "target_feature_benchmark  = 'total_amount'\n",
    "\n",
    "# Train and test split\n",
    "from sklearn.model_selection import train_test_split\n",
    "\n",
    "X_bench = data_for_benchmark_model[input_features_benchmark]\n",
    "y_bench = data_for_benchmark_model[target_feature_benchmark]\n",
    "\n",
    "# one-hot encode\n",
    "X_bench = pd.get_dummies(X_bench)\n",
    "\n",
    "X_train_b, X_test_b, y_train_b, y_test_b = train_test_split(X_bench, y_bench, test_size=0.33, random_state=42)\n",
    "\n",
    "# Fit a model\n",
    "from sklearn.tree import DecisionTreeRegressor \n",
    "\n",
    "tree = DecisionTreeRegressor(max_depth=10)\n",
    "tree.fit(X_train_b, y_train_b)\n",
    "\n",
    "# Evaluate model\n",
    "model_at_hand = tree\n",
    "\n",
    "y_pred_b = model_at_hand.predict(X_test_b)\n",
    "\n",
    "from sklearn.metrics import mean_absolute_error\n",
    "from sklearn.metrics import mean_squared_error\n",
    "from sklearn.metrics import r2_score\n",
    "from math import sqrt\n",
    "\n",
    "print('mean_absolute_error', mean_absolute_error(y_test_b, y_pred_b))\n",
    "print('mean_squared_error', mean_squared_error(y_test_b, y_pred_b))\n",
    "print('root_mean_squared_error', sqrt(mean_squared_error(y_test_b, y_pred_b)))\n",
    "print('r2', r2_score(y_test_b, y_pred_b))\n",
    "\n",
    "# MAE AND RMSE -> THESE VALUES SHOULD BE SMALLER SINCE THEY CALCULATE THE DIFFERENCE"
   ]
  },
  {
   "cell_type": "code",
   "execution_count": 134,
   "id": "996ada5e-06f6-4a93-bbc8-b9e7495beef3",
   "metadata": {},
   "outputs": [
    {
     "data": {
      "text/plain": [
       "<Axes: xlabel='true', ylabel='pred'>"
      ]
     },
     "execution_count": 134,
     "metadata": {},
     "output_type": "execute_result"
    },
    {
     "data": {
      "image/png": "[encoded data removed]",
      "text/plain": [
       "<Figure size 2000x1000 with 1 Axes>"
      ]
     },
     "metadata": {},
     "output_type": "display_data"
    }
   ],
   "source": [
    "data = {'true':y_test_b,'pred':y_pred_b}\n",
    "results = pd.DataFrame(data)\n",
    "\n",
    "results.plot(figsize = (20,10),kind = 'scatter',x = 'true',y = 'pred')"
   ]
  },
  {
   "cell_type": "markdown",
   "id": "cc1a9f39-e706-49b2-88c9-c056c23e22bb",
   "metadata": {},
   "source": [
    "# Feature engineering -> Creating a bunch of new features"
   ]
  },
  {
   "cell_type": "code",
   "execution_count": 135,
   "id": "0a2530a8-c529-4110-a728-1d7208adc234",
   "metadata": {},
   "outputs": [
    {
     "data": {
      "text/html": [
       "<div>\n",
       "<style scoped>\n",
       "    .dataframe tbody tr th:only-of-type {\n",
       "        vertical-align: middle;\n",
       "    }\n",
       "\n",
       "    .dataframe tbody tr th {\n",
       "        vertical-align: top;\n",
       "    }\n",
       "\n",
       "    .dataframe thead th {\n",
       "        text-align: right;\n",
       "    }\n",
       "</style>\n",
       "<table border=\"1\" class=\"dataframe\">\n",
       "  <thead>\n",
       "    <tr style=\"text-align: right;\">\n",
       "      <th></th>\n",
       "      <th>PULocationID</th>\n",
       "      <th>transaction_date</th>\n",
       "      <th>transaction_month</th>\n",
       "      <th>transaction_day</th>\n",
       "      <th>transaction_hour</th>\n",
       "      <th>trip_distance</th>\n",
       "      <th>total_amount</th>\n",
       "      <th>count_of_transactions</th>\n",
       "    </tr>\n",
       "  </thead>\n",
       "  <tbody>\n",
       "    <tr>\n",
       "      <th>0</th>\n",
       "      <td>1</td>\n",
       "      <td>2019-01-01</td>\n",
       "      <td>1</td>\n",
       "      <td>1</td>\n",
       "      <td>2</td>\n",
       "      <td>0.0</td>\n",
       "      <td>21.800</td>\n",
       "      <td>1</td>\n",
       "    </tr>\n",
       "    <tr>\n",
       "      <th>1</th>\n",
       "      <td>1</td>\n",
       "      <td>2019-01-01</td>\n",
       "      <td>1</td>\n",
       "      <td>1</td>\n",
       "      <td>5</td>\n",
       "      <td>0.0</td>\n",
       "      <td>87.300</td>\n",
       "      <td>1</td>\n",
       "    </tr>\n",
       "    <tr>\n",
       "      <th>2</th>\n",
       "      <td>1</td>\n",
       "      <td>2019-01-01</td>\n",
       "      <td>1</td>\n",
       "      <td>1</td>\n",
       "      <td>6</td>\n",
       "      <td>0.0</td>\n",
       "      <td>80.300</td>\n",
       "      <td>1</td>\n",
       "    </tr>\n",
       "    <tr>\n",
       "      <th>3</th>\n",
       "      <td>1</td>\n",
       "      <td>2019-01-01</td>\n",
       "      <td>1</td>\n",
       "      <td>1</td>\n",
       "      <td>8</td>\n",
       "      <td>0.0</td>\n",
       "      <td>128.580</td>\n",
       "      <td>2</td>\n",
       "    </tr>\n",
       "    <tr>\n",
       "      <th>4</th>\n",
       "      <td>1</td>\n",
       "      <td>2019-01-01</td>\n",
       "      <td>1</td>\n",
       "      <td>1</td>\n",
       "      <td>10</td>\n",
       "      <td>16.9</td>\n",
       "      <td>43.245</td>\n",
       "      <td>4</td>\n",
       "    </tr>\n",
       "  </tbody>\n",
       "</table>\n",
       "</div>"
      ],
      "text/plain": [
       "  PULocationID transaction_date  transaction_month  transaction_day  \\\n",
       "0            1       2019-01-01                  1                1   \n",
       "1            1       2019-01-01                  1                1   \n",
       "2            1       2019-01-01                  1                1   \n",
       "3            1       2019-01-01                  1                1   \n",
       "4            1       2019-01-01                  1                1   \n",
       "\n",
       "   transaction_hour  trip_distance  total_amount  count_of_transactions  \n",
       "0                 2            0.0        21.800                      1  \n",
       "1                 5            0.0        87.300                      1  \n",
       "2                 6            0.0        80.300                      1  \n",
       "3                 8            0.0       128.580                      2  \n",
       "4                10           16.9        43.245                      4  "
      ]
     },
     "execution_count": 135,
     "metadata": {},
     "output_type": "execute_result"
    }
   ],
   "source": [
    "taxi_grouped_by_region.head() #seeing what we already have"
   ]
  },
  {
   "cell_type": "code",
   "execution_count": 136,
   "id": "dc85d975-853b-4888-9027-73815fe4332b",
   "metadata": {},
   "outputs": [],
   "source": [
    "data_with_new_features = taxi_grouped_by_region.copy() #creating a new dataset"
   ]
  },
  {
   "cell_type": "code",
   "execution_count": 137,
   "id": "11fc875d-c41c-49dd-a7dc-27ecfe4c03a2",
   "metadata": {},
   "outputs": [],
   "source": [
    "data_with_new_features['transaction_week_day'] = data_with_new_features['transaction_date'].dt.weekday\n",
    "data_with_new_features['weekend'] = data_with_new_features['transaction_week_day'].apply(lambda x: True if x == 5 or x == 6 else False)"
   ]
  },
  {
   "cell_type": "code",
   "execution_count": 138,
   "id": "6a331b03-0915-4ef4-9b39-0c8d4d7550e6",
   "metadata": {},
   "outputs": [],
   "source": [
    "from pandas.tseries.holiday import USFederalHolidayCalendar #getting all the holidays and marking them in our dataset\n",
    "\n",
    "cal = USFederalHolidayCalendar()\n",
    "holidays = cal.holidays(start='2018',\n",
    "                        end='2020').date\n",
    "data_with_new_features['is_holiday'] = data_with_new_features['transaction_date'].isin(holidays)"
   ]
  },
  {
   "cell_type": "code",
   "execution_count": 139,
   "id": "fdaea6eb-41fc-4fce-a866-56c745a08db7",
   "metadata": {},
   "outputs": [
    {
     "data": {
      "text/html": [
       "<div>\n",
       "<style scoped>\n",
       "    .dataframe tbody tr th:only-of-type {\n",
       "        vertical-align: middle;\n",
       "    }\n",
       "\n",
       "    .dataframe tbody tr th {\n",
       "        vertical-align: top;\n",
       "    }\n",
       "\n",
       "    .dataframe thead th {\n",
       "        text-align: right;\n",
       "    }\n",
       "</style>\n",
       "<table border=\"1\" class=\"dataframe\">\n",
       "  <thead>\n",
       "    <tr style=\"text-align: right;\">\n",
       "      <th></th>\n",
       "      <th>PULocationID</th>\n",
       "      <th>transaction_date</th>\n",
       "      <th>transaction_month</th>\n",
       "      <th>transaction_day</th>\n",
       "      <th>transaction_hour</th>\n",
       "      <th>trip_distance</th>\n",
       "      <th>total_amount</th>\n",
       "      <th>count_of_transactions</th>\n",
       "      <th>transaction_week_day</th>\n",
       "      <th>weekend</th>\n",
       "      <th>is_holiday</th>\n",
       "    </tr>\n",
       "  </thead>\n",
       "  <tbody>\n",
       "    <tr>\n",
       "      <th>0</th>\n",
       "      <td>1</td>\n",
       "      <td>2019-01-01</td>\n",
       "      <td>1</td>\n",
       "      <td>1</td>\n",
       "      <td>2</td>\n",
       "      <td>0.0</td>\n",
       "      <td>21.800</td>\n",
       "      <td>1</td>\n",
       "      <td>1</td>\n",
       "      <td>False</td>\n",
       "      <td>True</td>\n",
       "    </tr>\n",
       "    <tr>\n",
       "      <th>1</th>\n",
       "      <td>1</td>\n",
       "      <td>2019-01-01</td>\n",
       "      <td>1</td>\n",
       "      <td>1</td>\n",
       "      <td>5</td>\n",
       "      <td>0.0</td>\n",
       "      <td>87.300</td>\n",
       "      <td>1</td>\n",
       "      <td>1</td>\n",
       "      <td>False</td>\n",
       "      <td>True</td>\n",
       "    </tr>\n",
       "    <tr>\n",
       "      <th>2</th>\n",
       "      <td>1</td>\n",
       "      <td>2019-01-01</td>\n",
       "      <td>1</td>\n",
       "      <td>1</td>\n",
       "      <td>6</td>\n",
       "      <td>0.0</td>\n",
       "      <td>80.300</td>\n",
       "      <td>1</td>\n",
       "      <td>1</td>\n",
       "      <td>False</td>\n",
       "      <td>True</td>\n",
       "    </tr>\n",
       "    <tr>\n",
       "      <th>3</th>\n",
       "      <td>1</td>\n",
       "      <td>2019-01-01</td>\n",
       "      <td>1</td>\n",
       "      <td>1</td>\n",
       "      <td>8</td>\n",
       "      <td>0.0</td>\n",
       "      <td>128.580</td>\n",
       "      <td>2</td>\n",
       "      <td>1</td>\n",
       "      <td>False</td>\n",
       "      <td>True</td>\n",
       "    </tr>\n",
       "    <tr>\n",
       "      <th>4</th>\n",
       "      <td>1</td>\n",
       "      <td>2019-01-01</td>\n",
       "      <td>1</td>\n",
       "      <td>1</td>\n",
       "      <td>10</td>\n",
       "      <td>16.9</td>\n",
       "      <td>43.245</td>\n",
       "      <td>4</td>\n",
       "      <td>1</td>\n",
       "      <td>False</td>\n",
       "      <td>True</td>\n",
       "    </tr>\n",
       "  </tbody>\n",
       "</table>\n",
       "</div>"
      ],
      "text/plain": [
       "  PULocationID transaction_date  transaction_month  transaction_day  \\\n",
       "0            1       2019-01-01                  1                1   \n",
       "1            1       2019-01-01                  1                1   \n",
       "2            1       2019-01-01                  1                1   \n",
       "3            1       2019-01-01                  1                1   \n",
       "4            1       2019-01-01                  1                1   \n",
       "\n",
       "   transaction_hour  trip_distance  total_amount  count_of_transactions  \\\n",
       "0                 2            0.0        21.800                      1   \n",
       "1                 5            0.0        87.300                      1   \n",
       "2                 6            0.0        80.300                      1   \n",
       "3                 8            0.0       128.580                      2   \n",
       "4                10           16.9        43.245                      4   \n",
       "\n",
       "   transaction_week_day  weekend  is_holiday  \n",
       "0                     1    False        True  \n",
       "1                     1    False        True  \n",
       "2                     1    False        True  \n",
       "3                     1    False        True  \n",
       "4                     1    False        True  "
      ]
     },
     "execution_count": 139,
     "metadata": {},
     "output_type": "execute_result"
    }
   ],
   "source": [
    "data_with_new_features.head()"
   ]
  },
  {
   "cell_type": "markdown",
   "id": "4c22dc97-d4b9-4a9b-8025-7aa35de39dc5",
   "metadata": {},
   "source": [
    "Borough information"
   ]
  },
  {
   "cell_type": "code",
   "execution_count": 140,
   "id": "44f3ef50-f4e0-4bed-b630-f3912e87193d",
   "metadata": {},
   "outputs": [
    {
     "data": {
      "text/html": [
       "<div>\n",
       "<style scoped>\n",
       "    .dataframe tbody tr th:only-of-type {\n",
       "        vertical-align: middle;\n",
       "    }\n",
       "\n",
       "    .dataframe tbody tr th {\n",
       "        vertical-align: top;\n",
       "    }\n",
       "\n",
       "    .dataframe thead th {\n",
       "        text-align: right;\n",
       "    }\n",
       "</style>\n",
       "<table border=\"1\" class=\"dataframe\">\n",
       "  <thead>\n",
       "    <tr style=\"text-align: right;\">\n",
       "      <th></th>\n",
       "      <th>LocationID</th>\n",
       "      <th>Borough</th>\n",
       "    </tr>\n",
       "  </thead>\n",
       "  <tbody>\n",
       "    <tr>\n",
       "      <th>0</th>\n",
       "      <td>1</td>\n",
       "      <td>EWR</td>\n",
       "    </tr>\n",
       "    <tr>\n",
       "      <th>1</th>\n",
       "      <td>2</td>\n",
       "      <td>Queens</td>\n",
       "    </tr>\n",
       "    <tr>\n",
       "      <th>2</th>\n",
       "      <td>3</td>\n",
       "      <td>Bronx</td>\n",
       "    </tr>\n",
       "    <tr>\n",
       "      <th>3</th>\n",
       "      <td>4</td>\n",
       "      <td>Manhattan</td>\n",
       "    </tr>\n",
       "    <tr>\n",
       "      <th>4</th>\n",
       "      <td>5</td>\n",
       "      <td>Staten Island</td>\n",
       "    </tr>\n",
       "  </tbody>\n",
       "</table>\n",
       "</div>"
      ],
      "text/plain": [
       "  LocationID        Borough\n",
       "0          1            EWR\n",
       "1          2         Queens\n",
       "2          3          Bronx\n",
       "3          4      Manhattan\n",
       "4          5  Staten Island"
      ]
     },
     "execution_count": 140,
     "metadata": {},
     "output_type": "execute_result"
    }
   ],
   "source": [
    "zone_lookup = pd.read_csv('data/taxi_zone_lookup.csv')\n",
    "zone_lookup = zone_lookup[['LocationID','Borough']]\n",
    "zone_lookup['LocationID'] = zone_lookup['LocationID'].astype(str)\n",
    "zone_lookup.head()"
   ]
  },
  {
   "cell_type": "code",
   "execution_count": 141,
   "id": "2a041d4f",
   "metadata": {},
   "outputs": [
    {
     "data": {
      "text/html": [
       "<div>\n",
       "<style scoped>\n",
       "    .dataframe tbody tr th:only-of-type {\n",
       "        vertical-align: middle;\n",
       "    }\n",
       "\n",
       "    .dataframe tbody tr th {\n",
       "        vertical-align: top;\n",
       "    }\n",
       "\n",
       "    .dataframe thead th {\n",
       "        text-align: right;\n",
       "    }\n",
       "</style>\n",
       "<table border=\"1\" class=\"dataframe\">\n",
       "  <thead>\n",
       "    <tr style=\"text-align: right;\">\n",
       "      <th></th>\n",
       "      <th>PULocationID</th>\n",
       "      <th>transaction_date</th>\n",
       "      <th>transaction_month</th>\n",
       "      <th>transaction_day</th>\n",
       "      <th>transaction_hour</th>\n",
       "      <th>trip_distance</th>\n",
       "      <th>total_amount</th>\n",
       "      <th>count_of_transactions</th>\n",
       "      <th>transaction_week_day</th>\n",
       "      <th>weekend</th>\n",
       "      <th>is_holiday</th>\n",
       "      <th>Borough</th>\n",
       "    </tr>\n",
       "  </thead>\n",
       "  <tbody>\n",
       "    <tr>\n",
       "      <th>0</th>\n",
       "      <td>1</td>\n",
       "      <td>2019-01-01</td>\n",
       "      <td>1</td>\n",
       "      <td>1</td>\n",
       "      <td>2</td>\n",
       "      <td>0.0</td>\n",
       "      <td>21.800</td>\n",
       "      <td>1</td>\n",
       "      <td>1</td>\n",
       "      <td>False</td>\n",
       "      <td>True</td>\n",
       "      <td>EWR</td>\n",
       "    </tr>\n",
       "    <tr>\n",
       "      <th>1</th>\n",
       "      <td>1</td>\n",
       "      <td>2019-01-01</td>\n",
       "      <td>1</td>\n",
       "      <td>1</td>\n",
       "      <td>5</td>\n",
       "      <td>0.0</td>\n",
       "      <td>87.300</td>\n",
       "      <td>1</td>\n",
       "      <td>1</td>\n",
       "      <td>False</td>\n",
       "      <td>True</td>\n",
       "      <td>EWR</td>\n",
       "    </tr>\n",
       "    <tr>\n",
       "      <th>2</th>\n",
       "      <td>1</td>\n",
       "      <td>2019-01-01</td>\n",
       "      <td>1</td>\n",
       "      <td>1</td>\n",
       "      <td>6</td>\n",
       "      <td>0.0</td>\n",
       "      <td>80.300</td>\n",
       "      <td>1</td>\n",
       "      <td>1</td>\n",
       "      <td>False</td>\n",
       "      <td>True</td>\n",
       "      <td>EWR</td>\n",
       "    </tr>\n",
       "    <tr>\n",
       "      <th>3</th>\n",
       "      <td>1</td>\n",
       "      <td>2019-01-01</td>\n",
       "      <td>1</td>\n",
       "      <td>1</td>\n",
       "      <td>8</td>\n",
       "      <td>0.0</td>\n",
       "      <td>128.580</td>\n",
       "      <td>2</td>\n",
       "      <td>1</td>\n",
       "      <td>False</td>\n",
       "      <td>True</td>\n",
       "      <td>EWR</td>\n",
       "    </tr>\n",
       "    <tr>\n",
       "      <th>4</th>\n",
       "      <td>1</td>\n",
       "      <td>2019-01-01</td>\n",
       "      <td>1</td>\n",
       "      <td>1</td>\n",
       "      <td>10</td>\n",
       "      <td>16.9</td>\n",
       "      <td>43.245</td>\n",
       "      <td>4</td>\n",
       "      <td>1</td>\n",
       "      <td>False</td>\n",
       "      <td>True</td>\n",
       "      <td>EWR</td>\n",
       "    </tr>\n",
       "  </tbody>\n",
       "</table>\n",
       "</div>"
      ],
      "text/plain": [
       "  PULocationID transaction_date  transaction_month  transaction_day  \\\n",
       "0            1       2019-01-01                  1                1   \n",
       "1            1       2019-01-01                  1                1   \n",
       "2            1       2019-01-01                  1                1   \n",
       "3            1       2019-01-01                  1                1   \n",
       "4            1       2019-01-01                  1                1   \n",
       "\n",
       "   transaction_hour  trip_distance  total_amount  count_of_transactions  \\\n",
       "0                 2            0.0        21.800                      1   \n",
       "1                 5            0.0        87.300                      1   \n",
       "2                 6            0.0        80.300                      1   \n",
       "3                 8            0.0       128.580                      2   \n",
       "4                10           16.9        43.245                      4   \n",
       "\n",
       "   transaction_week_day  weekend  is_holiday Borough  \n",
       "0                     1    False        True     EWR  \n",
       "1                     1    False        True     EWR  \n",
       "2                     1    False        True     EWR  \n",
       "3                     1    False        True     EWR  \n",
       "4                     1    False        True     EWR  "
      ]
     },
     "execution_count": 141,
     "metadata": {},
     "output_type": "execute_result"
    }
   ],
   "source": [
    "data_with_new_features = data_with_new_features.merge(zone_lookup, left_on='PULocationID', right_on='LocationID', how='left')\n",
    "data_with_new_features.drop('LocationID', axis=1, inplace=True)\n",
    "data_with_new_features.head()"
   ]
  },
  {
   "cell_type": "code",
   "execution_count": 142,
   "id": "8f12cfa6",
   "metadata": {},
   "outputs": [
    {
     "data": {
      "text/plain": [
       "Borough\n",
       "Manhattan        45315\n",
       "Brooklyn         23721\n",
       "Queens           22000\n",
       "Bronx             9649\n",
       "Unknown            744\n",
       "Staten Island      304\n",
       "EWR                271\n",
       "Name: count, dtype: int64"
      ]
     },
     "execution_count": 142,
     "metadata": {},
     "output_type": "execute_result"
    }
   ],
   "source": [
    "data_with_new_features['Borough'].value_counts() #a borough includes a couple of regions"
   ]
  },
  {
   "cell_type": "code",
   "execution_count": 143,
   "id": "af317ced-a62c-4cb9-a3e9-209c946e3337",
   "metadata": {},
   "outputs": [
    {
     "data": {
      "text/html": [
       "<div>\n",
       "<style scoped>\n",
       "    .dataframe tbody tr th:only-of-type {\n",
       "        vertical-align: middle;\n",
       "    }\n",
       "\n",
       "    .dataframe tbody tr th {\n",
       "        vertical-align: top;\n",
       "    }\n",
       "\n",
       "    .dataframe thead th {\n",
       "        text-align: right;\n",
       "    }\n",
       "</style>\n",
       "<table border=\"1\" class=\"dataframe\">\n",
       "  <thead>\n",
       "    <tr style=\"text-align: right;\">\n",
       "      <th></th>\n",
       "      <th>date and time</th>\n",
       "      <th>temperature</th>\n",
       "      <th>humidity</th>\n",
       "      <th>wind speed</th>\n",
       "      <th>cloud cover</th>\n",
       "      <th>amount of precipitation</th>\n",
       "    </tr>\n",
       "  </thead>\n",
       "  <tbody>\n",
       "    <tr>\n",
       "      <th>0</th>\n",
       "      <td>31.12.2019 22:00</td>\n",
       "      <td>6.1</td>\n",
       "      <td>65</td>\n",
       "      <td>6</td>\n",
       "      <td>100%.</td>\n",
       "      <td>0.3</td>\n",
       "    </tr>\n",
       "    <tr>\n",
       "      <th>1</th>\n",
       "      <td>31.12.2019 19:00</td>\n",
       "      <td>6.7</td>\n",
       "      <td>71</td>\n",
       "      <td>5</td>\n",
       "      <td>70 – 80%.</td>\n",
       "      <td>NaN</td>\n",
       "    </tr>\n",
       "    <tr>\n",
       "      <th>2</th>\n",
       "      <td>31.12.2019 16:00</td>\n",
       "      <td>7.2</td>\n",
       "      <td>66</td>\n",
       "      <td>5</td>\n",
       "      <td>50%.</td>\n",
       "      <td>NaN</td>\n",
       "    </tr>\n",
       "    <tr>\n",
       "      <th>3</th>\n",
       "      <td>31.12.2019 13:00</td>\n",
       "      <td>6.1</td>\n",
       "      <td>76</td>\n",
       "      <td>3</td>\n",
       "      <td>100%.</td>\n",
       "      <td>Trace of precipitation</td>\n",
       "    </tr>\n",
       "    <tr>\n",
       "      <th>4</th>\n",
       "      <td>31.12.2019 10:00</td>\n",
       "      <td>4.4</td>\n",
       "      <td>83</td>\n",
       "      <td>2</td>\n",
       "      <td>100%.</td>\n",
       "      <td>Trace of precipitation</td>\n",
       "    </tr>\n",
       "  </tbody>\n",
       "</table>\n",
       "</div>"
      ],
      "text/plain": [
       "      date and time  temperature  humidity  wind speed cloud cover  \\\n",
       "0  31.12.2019 22:00          6.1        65           6       100%.   \n",
       "1  31.12.2019 19:00          6.7        71           5   70 – 80%.   \n",
       "2  31.12.2019 16:00          7.2        66           5        50%.   \n",
       "3  31.12.2019 13:00          6.1        76           3       100%.   \n",
       "4  31.12.2019 10:00          4.4        83           2       100%.   \n",
       "\n",
       "  amount of precipitation  \n",
       "0                     0.3  \n",
       "1                     NaN  \n",
       "2                     NaN  \n",
       "3  Trace of precipitation  \n",
       "4  Trace of precipitation  "
      ]
     },
     "execution_count": 143,
     "metadata": {},
     "output_type": "execute_result"
    }
   ],
   "source": [
    "nyc_weather = pd.read_csv('data/nyc_weather.csv')\n",
    "nyc_weather.head()"
   ]
  },
  {
   "cell_type": "code",
   "execution_count": 151,
   "id": "6f897e44-af97-47de-9fa7-1bd5c3b73c97",
   "metadata": {},
   "outputs": [
    {
     "data": {
      "text/plain": [
       "(2936, 6)"
      ]
     },
     "execution_count": 151,
     "metadata": {},
     "output_type": "execute_result"
    }
   ],
   "source": [
    "nyc_weather.shape"
   ]
  },
  {
   "cell_type": "markdown",
   "id": "9b540abd-186d-4c62-9aec-a6d4e9627bed",
   "metadata": {},
   "source": [
    "There are some percentage values and missing values which we can't work with easily "
   ]
  },
  {
   "cell_type": "code",
   "execution_count": 145,
   "id": "b118a8b7-4f19-413b-9c9f-d40f9091ee7f",
   "metadata": {},
   "outputs": [
    {
     "data": {
      "text/plain": [
       "date and time               object\n",
       "temperature                float64\n",
       "humidity                     int64\n",
       "wind speed                   int64\n",
       "cloud cover                 object\n",
       "amount of precipitation     object\n",
       "dtype: object"
      ]
     },
     "execution_count": 145,
     "metadata": {},
     "output_type": "execute_result"
    }
   ],
   "source": [
    "nyc_weather.dtypes\n",
    "\n",
    "# cloud cover and amount of precipitation are objects(strings) so we want them as numbers since there is a relatio between these numbers"
   ]
  },
  {
   "cell_type": "code",
   "execution_count": 147,
   "id": "7ca706cc-c182-4cd7-a2b6-0cc304536fe8",
   "metadata": {},
   "outputs": [
    {
     "data": {
      "text/plain": [
       "cloud cover\n",
       "70 – 80%.                                                     973\n",
       "100%.                                                         896\n",
       "20–30%.                                                       479\n",
       "50%.                                                          413\n",
       "no clouds                                                     168\n",
       "Sky obscured by fog and/or other meteorological phenomena.      3\n",
       "Name: count, dtype: int64"
      ]
     },
     "execution_count": 147,
     "metadata": {},
     "output_type": "execute_result"
    }
   ],
   "source": [
    "nyc_weather['cloud cover'].value_counts() #observing how many times a particular value has occured"
   ]
  },
  {
   "cell_type": "code",
   "execution_count": 148,
   "id": "3b61339b-bb76-4df9-81ea-21e9f8596d00",
   "metadata": {},
   "outputs": [
    {
     "data": {
      "text/plain": [
       "amount of precipitation\n",
       "Trace of precipitation    266\n",
       "0.3                        61\n",
       "2.0                        49\n",
       "1.0                        45\n",
       "0.5                        42\n",
       "0.8                        42\n",
       "4.0                        33\n",
       "5.0                        24\n",
       "3.0                        23\n",
       "6.0                        19\n",
       "7.0                        13\n",
       "8.0                        13\n",
       "9.0                        11\n",
       "10.0                       10\n",
       "13.0                        7\n",
       "12.0                        7\n",
       "15.0                        6\n",
       "11.0                        5\n",
       "16.0                        3\n",
       "22.0                        2\n",
       "14.0                        2\n",
       "29.0                        2\n",
       "63.0                        1\n",
       "21.0                        1\n",
       "68.0                        1\n",
       "17.0                        1\n",
       "20.0                        1\n",
       "30.0                        1\n",
       "35.0                        1\n",
       "34.0                        1\n",
       "24.0                        1\n",
       "18.0                        1\n",
       "25.0                        1\n",
       "Name: count, dtype: int64"
      ]
     },
     "execution_count": 148,
     "metadata": {},
     "output_type": "execute_result"
    }
   ],
   "source": [
    "nyc_weather['amount of precipitation'].value_counts()"
   ]
  },
  {
   "cell_type": "code",
   "execution_count": 149,
   "id": "a3c57f5e-abee-401a-88f9-cb80bb24e46f",
   "metadata": {},
   "outputs": [
    {
     "data": {
      "text/plain": [
       "date and time                 0\n",
       "temperature                   0\n",
       "humidity                      0\n",
       "wind speed                    0\n",
       "cloud cover                   4\n",
       "amount of precipitation    2240\n",
       "dtype: int64"
      ]
     },
     "execution_count": 149,
     "metadata": {},
     "output_type": "execute_result"
    }
   ],
   "source": [
    "nyc_weather.isna().sum() #checking if we have any missing values "
   ]
  },
  {
   "cell_type": "markdown",
   "id": "27ee4dc6-845b-4467-9a46-f00f21b8bfd9",
   "metadata": {},
   "source": [
    "If we have missing values, we have to use our intiution and if it's zero that's why we think it's none just fill it with zero\n",
    "but it's too many missing values for it to be zero \n",
    "\n",
    "another way is to use a fill method we can use a forward fill or backward fill\n",
    "\n",
    "Forword fill -> Using the last occurred number to fill the next number \n",
    "Example :- Let's say we have the data for 1 pm but we don't have the data for 2pm and so on , so we use forward fill\n",
    "\n",
    "Backward fill -> Using the lastest value to fill the places behind it"
   ]
  },
  {
   "cell_type": "code",
   "execution_count": 155,
   "id": "9a212bf4-1d79-4ade-b224-055b4e4a084b",
   "metadata": {},
   "outputs": [],
   "source": [
    "nyc_weather['amount of precipitation'] = nyc_weather['amount of precipitation'].replace('Trace of precipitation', 0.1)\n",
    "nyc_weather['amount of precipitation'] = nyc_weather['amount of precipitation'].astype(float)\n",
    "# option 1\n",
    "# nyc_weather['amount of precipitation'].fillna(0, inplace=True)\n",
    "# option 2\n",
    "#nyc_weather['amount of precipitation'].fillna(method='ffill', inplace=True)\n",
    "# option 3\n",
    "nyc_weather['amount of precipitation'].interpolate(inplace=True)"
   ]
  },
  {
   "cell_type": "code",
   "execution_count": 156,
   "id": "e7032949-9775-49a3-8926-01df286aaa31",
   "metadata": {},
   "outputs": [],
   "source": [
    "nyc_weather['cloud cover'] = nyc_weather['cloud cover'].replace('70 – 80%.', 0.7)\n",
    "nyc_weather['cloud cover'] = nyc_weather['cloud cover'].replace('100%.', 1)\n",
    "nyc_weather['cloud cover'] = nyc_weather['cloud cover'].replace('20–30%.', 0.3)\n",
    "nyc_weather['cloud cover'] = nyc_weather['cloud cover'].replace('50%.', 0.5)\n",
    "nyc_weather['cloud cover'] = nyc_weather['cloud cover'].replace('no clouds', 0)\n",
    "nyc_weather['cloud cover'] = nyc_weather['cloud cover'].replace('Sky obscured by fog and/or other meteorological phenomena.', 1)\n",
    "nyc_weather['cloud cover'] = nyc_weather['cloud cover'].astype(float)\n",
    "nyc_weather['cloud cover'].interpolate(inplace=True)"
   ]
  },
  {
   "cell_type": "code",
   "execution_count": 157,
   "id": "bf733fd1-f8e8-4442-af4c-4d4ec30eec7d",
   "metadata": {},
   "outputs": [
    {
     "data": {
      "text/plain": [
       "date and time               object\n",
       "temperature                float64\n",
       "humidity                     int64\n",
       "wind speed                   int64\n",
       "cloud cover                float64\n",
       "amount of precipitation    float64\n",
       "dtype: object"
      ]
     },
     "execution_count": 157,
     "metadata": {},
     "output_type": "execute_result"
    }
   ],
   "source": [
    "nyc_weather.dtypes #after converting the values"
   ]
  },
  {
   "cell_type": "code",
   "execution_count": 162,
   "id": "f5b5b35a-6619-4d54-afcf-14c34e9c407f",
   "metadata": {},
   "outputs": [],
   "source": [
    "# Converting 'date and time' column to datetime format\n",
    "nyc_weather['date and time'] = pd.to_datetime(nyc_weather['date and time'])\n",
    "nyc_weather['hour'] = nyc_weather['date and time'].dt.hour\n",
    "nyc_weather['month'] = nyc_weather['date and time'].dt.month\n",
    "nyc_weather['day'] = nyc_weather['date and time'].dt.day"
   ]
  },
  {
   "cell_type": "code",
   "execution_count": 161,
   "id": "0bcf7c18-9601-4b67-bbf7-e7d9f45dc7e2",
   "metadata": {},
   "outputs": [
    {
     "data": {
      "text/html": [
       "<div>\n",
       "<style scoped>\n",
       "    .dataframe tbody tr th:only-of-type {\n",
       "        vertical-align: middle;\n",
       "    }\n",
       "\n",
       "    .dataframe tbody tr th {\n",
       "        vertical-align: top;\n",
       "    }\n",
       "\n",
       "    .dataframe thead th {\n",
       "        text-align: right;\n",
       "    }\n",
       "</style>\n",
       "<table border=\"1\" class=\"dataframe\">\n",
       "  <thead>\n",
       "    <tr style=\"text-align: right;\">\n",
       "      <th></th>\n",
       "      <th>date and time</th>\n",
       "      <th>temperature</th>\n",
       "      <th>humidity</th>\n",
       "      <th>wind speed</th>\n",
       "      <th>cloud cover</th>\n",
       "      <th>amount of precipitation</th>\n",
       "      <th>hour</th>\n",
       "      <th>month</th>\n",
       "      <th>day</th>\n",
       "    </tr>\n",
       "  </thead>\n",
       "  <tbody>\n",
       "    <tr>\n",
       "      <th>0</th>\n",
       "      <td>2019-12-31 22:00:00</td>\n",
       "      <td>6.1</td>\n",
       "      <td>65</td>\n",
       "      <td>6</td>\n",
       "      <td>1.0</td>\n",
       "      <td>0.300000</td>\n",
       "      <td>22</td>\n",
       "      <td>12</td>\n",
       "      <td>31</td>\n",
       "    </tr>\n",
       "    <tr>\n",
       "      <th>1</th>\n",
       "      <td>2019-12-31 19:00:00</td>\n",
       "      <td>6.7</td>\n",
       "      <td>71</td>\n",
       "      <td>5</td>\n",
       "      <td>0.7</td>\n",
       "      <td>0.233333</td>\n",
       "      <td>19</td>\n",
       "      <td>12</td>\n",
       "      <td>31</td>\n",
       "    </tr>\n",
       "    <tr>\n",
       "      <th>2</th>\n",
       "      <td>2019-12-31 16:00:00</td>\n",
       "      <td>7.2</td>\n",
       "      <td>66</td>\n",
       "      <td>5</td>\n",
       "      <td>0.5</td>\n",
       "      <td>0.166667</td>\n",
       "      <td>16</td>\n",
       "      <td>12</td>\n",
       "      <td>31</td>\n",
       "    </tr>\n",
       "    <tr>\n",
       "      <th>3</th>\n",
       "      <td>2019-12-31 13:00:00</td>\n",
       "      <td>6.1</td>\n",
       "      <td>76</td>\n",
       "      <td>3</td>\n",
       "      <td>1.0</td>\n",
       "      <td>0.100000</td>\n",
       "      <td>13</td>\n",
       "      <td>12</td>\n",
       "      <td>31</td>\n",
       "    </tr>\n",
       "    <tr>\n",
       "      <th>4</th>\n",
       "      <td>2019-12-31 10:00:00</td>\n",
       "      <td>4.4</td>\n",
       "      <td>83</td>\n",
       "      <td>2</td>\n",
       "      <td>1.0</td>\n",
       "      <td>0.100000</td>\n",
       "      <td>10</td>\n",
       "      <td>12</td>\n",
       "      <td>31</td>\n",
       "    </tr>\n",
       "  </tbody>\n",
       "</table>\n",
       "</div>"
      ],
      "text/plain": [
       "        date and time  temperature  humidity  wind speed  cloud cover  \\\n",
       "0 2019-12-31 22:00:00          6.1        65           6          1.0   \n",
       "1 2019-12-31 19:00:00          6.7        71           5          0.7   \n",
       "2 2019-12-31 16:00:00          7.2        66           5          0.5   \n",
       "3 2019-12-31 13:00:00          6.1        76           3          1.0   \n",
       "4 2019-12-31 10:00:00          4.4        83           2          1.0   \n",
       "\n",
       "   amount of precipitation  hour  month  day  \n",
       "0                 0.300000    22     12   31  \n",
       "1                 0.233333    19     12   31  \n",
       "2                 0.166667    16     12   31  \n",
       "3                 0.100000    13     12   31  \n",
       "4                 0.100000    10     12   31  "
      ]
     },
     "execution_count": 161,
     "metadata": {},
     "output_type": "execute_result"
    }
   ],
   "source": [
    "nyc_weather.head()"
   ]
  },
  {
   "cell_type": "code",
   "execution_count": 163,
   "id": "a81e03b9-6504-4c4f-b930-f91e23ed0c26",
   "metadata": {},
   "outputs": [
    {
     "data": {
      "text/html": [
       "<div>\n",
       "<style scoped>\n",
       "    .dataframe tbody tr th:only-of-type {\n",
       "        vertical-align: middle;\n",
       "    }\n",
       "\n",
       "    .dataframe tbody tr th {\n",
       "        vertical-align: top;\n",
       "    }\n",
       "\n",
       "    .dataframe thead th {\n",
       "        text-align: right;\n",
       "    }\n",
       "</style>\n",
       "<table border=\"1\" class=\"dataframe\">\n",
       "  <thead>\n",
       "    <tr style=\"text-align: right;\">\n",
       "      <th></th>\n",
       "      <th>PULocationID</th>\n",
       "      <th>transaction_date</th>\n",
       "      <th>transaction_month</th>\n",
       "      <th>transaction_day</th>\n",
       "      <th>transaction_hour</th>\n",
       "      <th>trip_distance</th>\n",
       "      <th>total_amount</th>\n",
       "      <th>count_of_transactions</th>\n",
       "      <th>transaction_week_day</th>\n",
       "      <th>weekend</th>\n",
       "      <th>is_holiday</th>\n",
       "      <th>Borough</th>\n",
       "    </tr>\n",
       "  </thead>\n",
       "  <tbody>\n",
       "    <tr>\n",
       "      <th>0</th>\n",
       "      <td>1</td>\n",
       "      <td>2019-01-01</td>\n",
       "      <td>1</td>\n",
       "      <td>1</td>\n",
       "      <td>2</td>\n",
       "      <td>0.0</td>\n",
       "      <td>21.800</td>\n",
       "      <td>1</td>\n",
       "      <td>1</td>\n",
       "      <td>False</td>\n",
       "      <td>True</td>\n",
       "      <td>EWR</td>\n",
       "    </tr>\n",
       "    <tr>\n",
       "      <th>1</th>\n",
       "      <td>1</td>\n",
       "      <td>2019-01-01</td>\n",
       "      <td>1</td>\n",
       "      <td>1</td>\n",
       "      <td>5</td>\n",
       "      <td>0.0</td>\n",
       "      <td>87.300</td>\n",
       "      <td>1</td>\n",
       "      <td>1</td>\n",
       "      <td>False</td>\n",
       "      <td>True</td>\n",
       "      <td>EWR</td>\n",
       "    </tr>\n",
       "    <tr>\n",
       "      <th>2</th>\n",
       "      <td>1</td>\n",
       "      <td>2019-01-01</td>\n",
       "      <td>1</td>\n",
       "      <td>1</td>\n",
       "      <td>6</td>\n",
       "      <td>0.0</td>\n",
       "      <td>80.300</td>\n",
       "      <td>1</td>\n",
       "      <td>1</td>\n",
       "      <td>False</td>\n",
       "      <td>True</td>\n",
       "      <td>EWR</td>\n",
       "    </tr>\n",
       "    <tr>\n",
       "      <th>3</th>\n",
       "      <td>1</td>\n",
       "      <td>2019-01-01</td>\n",
       "      <td>1</td>\n",
       "      <td>1</td>\n",
       "      <td>8</td>\n",
       "      <td>0.0</td>\n",
       "      <td>128.580</td>\n",
       "      <td>2</td>\n",
       "      <td>1</td>\n",
       "      <td>False</td>\n",
       "      <td>True</td>\n",
       "      <td>EWR</td>\n",
       "    </tr>\n",
       "    <tr>\n",
       "      <th>4</th>\n",
       "      <td>1</td>\n",
       "      <td>2019-01-01</td>\n",
       "      <td>1</td>\n",
       "      <td>1</td>\n",
       "      <td>10</td>\n",
       "      <td>16.9</td>\n",
       "      <td>43.245</td>\n",
       "      <td>4</td>\n",
       "      <td>1</td>\n",
       "      <td>False</td>\n",
       "      <td>True</td>\n",
       "      <td>EWR</td>\n",
       "    </tr>\n",
       "  </tbody>\n",
       "</table>\n",
       "</div>"
      ],
      "text/plain": [
       "  PULocationID transaction_date  transaction_month  transaction_day  \\\n",
       "0            1       2019-01-01                  1                1   \n",
       "1            1       2019-01-01                  1                1   \n",
       "2            1       2019-01-01                  1                1   \n",
       "3            1       2019-01-01                  1                1   \n",
       "4            1       2019-01-01                  1                1   \n",
       "\n",
       "   transaction_hour  trip_distance  total_amount  count_of_transactions  \\\n",
       "0                 2            0.0        21.800                      1   \n",
       "1                 5            0.0        87.300                      1   \n",
       "2                 6            0.0        80.300                      1   \n",
       "3                 8            0.0       128.580                      2   \n",
       "4                10           16.9        43.245                      4   \n",
       "\n",
       "   transaction_week_day  weekend  is_holiday Borough  \n",
       "0                     1    False        True     EWR  \n",
       "1                     1    False        True     EWR  \n",
       "2                     1    False        True     EWR  \n",
       "3                     1    False        True     EWR  \n",
       "4                     1    False        True     EWR  "
      ]
     },
     "execution_count": 163,
     "metadata": {},
     "output_type": "execute_result"
    }
   ],
   "source": [
    "data_with_new_features.head()"
   ]
  },
  {
   "cell_type": "code",
   "execution_count": 165,
   "id": "5a572bed-3775-4dd0-a04e-467eca0fe6e3",
   "metadata": {},
   "outputs": [
    {
     "name": "stdout",
     "output_type": "stream",
     "text": [
      "(102713, 21)\n"
     ]
    },
    {
     "data": {
      "text/html": [
       "<div>\n",
       "<style scoped>\n",
       "    .dataframe tbody tr th:only-of-type {\n",
       "        vertical-align: middle;\n",
       "    }\n",
       "\n",
       "    .dataframe tbody tr th {\n",
       "        vertical-align: top;\n",
       "    }\n",
       "\n",
       "    .dataframe thead th {\n",
       "        text-align: right;\n",
       "    }\n",
       "</style>\n",
       "<table border=\"1\" class=\"dataframe\">\n",
       "  <thead>\n",
       "    <tr style=\"text-align: right;\">\n",
       "      <th></th>\n",
       "      <th>PULocationID</th>\n",
       "      <th>transaction_date</th>\n",
       "      <th>transaction_month</th>\n",
       "      <th>transaction_day</th>\n",
       "      <th>transaction_hour</th>\n",
       "      <th>trip_distance</th>\n",
       "      <th>total_amount</th>\n",
       "      <th>count_of_transactions</th>\n",
       "      <th>transaction_week_day</th>\n",
       "      <th>weekend</th>\n",
       "      <th>...</th>\n",
       "      <th>Borough</th>\n",
       "      <th>date and time</th>\n",
       "      <th>temperature</th>\n",
       "      <th>humidity</th>\n",
       "      <th>wind speed</th>\n",
       "      <th>cloud cover</th>\n",
       "      <th>amount of precipitation</th>\n",
       "      <th>hour</th>\n",
       "      <th>month</th>\n",
       "      <th>day</th>\n",
       "    </tr>\n",
       "  </thead>\n",
       "  <tbody>\n",
       "    <tr>\n",
       "      <th>0</th>\n",
       "      <td>1</td>\n",
       "      <td>2019-01-01</td>\n",
       "      <td>1</td>\n",
       "      <td>1</td>\n",
       "      <td>2</td>\n",
       "      <td>0.0</td>\n",
       "      <td>21.800</td>\n",
       "      <td>1</td>\n",
       "      <td>1</td>\n",
       "      <td>False</td>\n",
       "      <td>...</td>\n",
       "      <td>EWR</td>\n",
       "      <td>NaT</td>\n",
       "      <td>NaN</td>\n",
       "      <td>NaN</td>\n",
       "      <td>NaN</td>\n",
       "      <td>NaN</td>\n",
       "      <td>NaN</td>\n",
       "      <td>NaN</td>\n",
       "      <td>NaN</td>\n",
       "      <td>NaN</td>\n",
       "    </tr>\n",
       "    <tr>\n",
       "      <th>1</th>\n",
       "      <td>1</td>\n",
       "      <td>2019-01-01</td>\n",
       "      <td>1</td>\n",
       "      <td>1</td>\n",
       "      <td>5</td>\n",
       "      <td>0.0</td>\n",
       "      <td>87.300</td>\n",
       "      <td>1</td>\n",
       "      <td>1</td>\n",
       "      <td>False</td>\n",
       "      <td>...</td>\n",
       "      <td>EWR</td>\n",
       "      <td>NaT</td>\n",
       "      <td>NaN</td>\n",
       "      <td>NaN</td>\n",
       "      <td>NaN</td>\n",
       "      <td>NaN</td>\n",
       "      <td>NaN</td>\n",
       "      <td>NaN</td>\n",
       "      <td>NaN</td>\n",
       "      <td>NaN</td>\n",
       "    </tr>\n",
       "    <tr>\n",
       "      <th>2</th>\n",
       "      <td>1</td>\n",
       "      <td>2019-01-01</td>\n",
       "      <td>1</td>\n",
       "      <td>1</td>\n",
       "      <td>6</td>\n",
       "      <td>0.0</td>\n",
       "      <td>80.300</td>\n",
       "      <td>1</td>\n",
       "      <td>1</td>\n",
       "      <td>False</td>\n",
       "      <td>...</td>\n",
       "      <td>EWR</td>\n",
       "      <td>NaT</td>\n",
       "      <td>NaN</td>\n",
       "      <td>NaN</td>\n",
       "      <td>NaN</td>\n",
       "      <td>NaN</td>\n",
       "      <td>NaN</td>\n",
       "      <td>NaN</td>\n",
       "      <td>NaN</td>\n",
       "      <td>NaN</td>\n",
       "    </tr>\n",
       "    <tr>\n",
       "      <th>3</th>\n",
       "      <td>1</td>\n",
       "      <td>2019-01-01</td>\n",
       "      <td>1</td>\n",
       "      <td>1</td>\n",
       "      <td>8</td>\n",
       "      <td>0.0</td>\n",
       "      <td>128.580</td>\n",
       "      <td>2</td>\n",
       "      <td>1</td>\n",
       "      <td>False</td>\n",
       "      <td>...</td>\n",
       "      <td>EWR</td>\n",
       "      <td>NaT</td>\n",
       "      <td>NaN</td>\n",
       "      <td>NaN</td>\n",
       "      <td>NaN</td>\n",
       "      <td>NaN</td>\n",
       "      <td>NaN</td>\n",
       "      <td>NaN</td>\n",
       "      <td>NaN</td>\n",
       "      <td>NaN</td>\n",
       "    </tr>\n",
       "    <tr>\n",
       "      <th>4</th>\n",
       "      <td>1</td>\n",
       "      <td>2019-01-01</td>\n",
       "      <td>1</td>\n",
       "      <td>1</td>\n",
       "      <td>10</td>\n",
       "      <td>16.9</td>\n",
       "      <td>43.245</td>\n",
       "      <td>4</td>\n",
       "      <td>1</td>\n",
       "      <td>False</td>\n",
       "      <td>...</td>\n",
       "      <td>EWR</td>\n",
       "      <td>2019-01-01 10:00:00</td>\n",
       "      <td>15.6</td>\n",
       "      <td>62.0</td>\n",
       "      <td>11.0</td>\n",
       "      <td>0.7</td>\n",
       "      <td>0.473333</td>\n",
       "      <td>10.0</td>\n",
       "      <td>1.0</td>\n",
       "      <td>1.0</td>\n",
       "    </tr>\n",
       "  </tbody>\n",
       "</table>\n",
       "<p>5 rows × 21 columns</p>\n",
       "</div>"
      ],
      "text/plain": [
       "  PULocationID transaction_date  transaction_month  transaction_day  \\\n",
       "0            1       2019-01-01                  1                1   \n",
       "1            1       2019-01-01                  1                1   \n",
       "2            1       2019-01-01                  1                1   \n",
       "3            1       2019-01-01                  1                1   \n",
       "4            1       2019-01-01                  1                1   \n",
       "\n",
       "   transaction_hour  trip_distance  total_amount  count_of_transactions  \\\n",
       "0                 2            0.0        21.800                      1   \n",
       "1                 5            0.0        87.300                      1   \n",
       "2                 6            0.0        80.300                      1   \n",
       "3                 8            0.0       128.580                      2   \n",
       "4                10           16.9        43.245                      4   \n",
       "\n",
       "   transaction_week_day  weekend  ...  Borough       date and time  \\\n",
       "0                     1    False  ...      EWR                 NaT   \n",
       "1                     1    False  ...      EWR                 NaT   \n",
       "2                     1    False  ...      EWR                 NaT   \n",
       "3                     1    False  ...      EWR                 NaT   \n",
       "4                     1    False  ...      EWR 2019-01-01 10:00:00   \n",
       "\n",
       "  temperature  humidity  wind speed  cloud cover  amount of precipitation  \\\n",
       "0         NaN       NaN         NaN          NaN                      NaN   \n",
       "1         NaN       NaN         NaN          NaN                      NaN   \n",
       "2         NaN       NaN         NaN          NaN                      NaN   \n",
       "3         NaN       NaN         NaN          NaN                      NaN   \n",
       "4        15.6      62.0        11.0          0.7                 0.473333   \n",
       "\n",
       "   hour  month  day  \n",
       "0   NaN    NaN  NaN  \n",
       "1   NaN    NaN  NaN  \n",
       "2   NaN    NaN  NaN  \n",
       "3   NaN    NaN  NaN  \n",
       "4  10.0    1.0  1.0  \n",
       "\n",
       "[5 rows x 21 columns]"
      ]
     },
     "execution_count": 165,
     "metadata": {},
     "output_type": "execute_result"
    }
   ],
   "source": [
    "#Merging two columns\n",
    "\n",
    "nyc_taxi_with_weather = data_with_new_features.merge(nyc_weather, left_on = ['transaction_month','transaction_day','transaction_hour'], right_on = ['month','day','hour'], how='left')\n",
    "\n",
    "print(nyc_taxi_with_weather.shape)\n",
    "nyc_taxi_with_weather.head()"
   ]
  },
  {
   "cell_type": "code",
   "execution_count": 166,
   "id": "4b9d1a63-5f3d-484f-96a3-d721923550db",
   "metadata": {},
   "outputs": [
    {
     "data": {
      "text/plain": [
       "PULocationID                   0\n",
       "transaction_date               0\n",
       "transaction_month              0\n",
       "transaction_day                0\n",
       "transaction_hour               0\n",
       "trip_distance                  0\n",
       "total_amount                   0\n",
       "count_of_transactions          0\n",
       "transaction_week_day           0\n",
       "weekend                        0\n",
       "is_holiday                     0\n",
       "Borough                      709\n",
       "date and time              65823\n",
       "temperature                65823\n",
       "humidity                   65823\n",
       "wind speed                 65823\n",
       "cloud cover                65823\n",
       "amount of precipitation    65823\n",
       "hour                       65823\n",
       "month                      65823\n",
       "day                        65823\n",
       "dtype: int64"
      ]
     },
     "execution_count": 166,
     "metadata": {},
     "output_type": "execute_result"
    }
   ],
   "source": [
    "nyc_taxi_with_weather.isna().sum()"
   ]
  },
  {
   "cell_type": "code",
   "execution_count": null,
   "id": "c87e7c00-259a-4df9-8842-332614b6e3df",
   "metadata": {},
   "outputs": [],
   "source": []
  }
 ],
 "metadata": {
  "kernelspec": {
   "display_name": "Python 3 (ipykernel)",
   "language": "python",
   "name": "python3"
  },
  "language_info": {
   "codemirror_mode": {
    "name": "ipython",
    "version": 3
   },
   "file_extension": ".py",
   "mimetype": "text/x-python",
   "name": "python",
   "nbconvert_exporter": "python",
   "pygments_lexer": "ipython3",
   "version": "3.12.1"
  }
 },
 "nbformat": 4,
 "nbformat_minor": 5
}
